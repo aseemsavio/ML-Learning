{
  "nbformat": 4,
  "nbformat_minor": 0,
  "metadata": {
    "colab": {
      "name": "Numpy.ipynb",
      "version": "0.3.2",
      "provenance": [],
      "collapsed_sections": []
    },
    "kernelspec": {
      "name": "python3",
      "display_name": "Python 3"
    }
  },
  "cells": [
    {
      "cell_type": "markdown",
      "metadata": {
        "id": "h2MhZaq689aR",
        "colab_type": "text"
      },
      "source": [
        "# Numpy\n",
        "\n",
        "Supports Linear Algebra, Forier Transforms, etc.\n",
        "Basic building block is an n-dimentional array.\n",
        "Other libraries are built on top of this.\n",
        "\n",
        "## Numpy Ecosystem\n",
        "\n",
        "### Statsmodel \n",
        "This is for estimating statistical models and performing tests.\n",
        "\n",
        "### scikit-image\n",
        "for image manipulation and image processing.\n",
        "\n",
        "###  scikit-learn\n",
        "For machine learning.\n",
        "\n",
        "### pandas\n",
        "For tabular data processing.\n",
        "\n",
        "### matplotlib\n",
        "For data visualization.\n",
        "\n",
        "Numpy is the core of all the above libraries.\n",
        "\n",
        "# 1. Exploring Multi-dimentional data with numpy\n",
        "\n",
        "## Creating Arrays"
      ]
    },
    {
      "cell_type": "code",
      "metadata": {
        "id": "PY1pmk5O9HBT",
        "colab_type": "code",
        "outputId": "a6f443a3-6be6-41eb-b741-518a85fdff4a",
        "colab": {
          "base_uri": "https://localhost:8080/",
          "height": 34
        }
      },
      "source": [
        "import numpy as np\n",
        "\n",
        "myArray = np.array([1, 2, 3, 4, 5])\n",
        "myArray"
      ],
      "execution_count": 0,
      "outputs": [
        {
          "output_type": "execute_result",
          "data": {
            "text/plain": [
              "array([1, 2, 3, 4, 5])"
            ]
          },
          "metadata": {
            "tags": []
          },
          "execution_count": 2
        }
      ]
    },
    {
      "cell_type": "markdown",
      "metadata": {
        "id": "lgboPFKV_1Jj",
        "colab_type": "text"
      },
      "source": [
        "Numpy arrays seem similar to Python lists. "
      ]
    },
    {
      "cell_type": "code",
      "metadata": {
        "id": "gATfg9iY_9iF",
        "colab_type": "code",
        "outputId": "6b08bd00-b181-4bec-a80e-53e9b48b3c7c",
        "colab": {
          "base_uri": "https://localhost:8080/",
          "height": 34
        }
      },
      "source": [
        "# Converting lists to np array\n",
        "\n",
        "pythonList = [2, 3, 4, 5, 6]\n",
        "npArray = np.array(pythonList)\n",
        "npArray"
      ],
      "execution_count": 0,
      "outputs": [
        {
          "output_type": "execute_result",
          "data": {
            "text/plain": [
              "array([2, 3, 4, 5, 6])"
            ]
          },
          "metadata": {
            "tags": []
          },
          "execution_count": 3
        }
      ]
    },
    {
      "cell_type": "code",
      "metadata": {
        "id": "0ZtpVqKMANP1",
        "colab_type": "code",
        "outputId": "39cb42f7-37d3-4758-dade-bc1fa47b6d8a",
        "colab": {
          "base_uri": "https://localhost:8080/",
          "height": 67
        }
      },
      "source": [
        "# np.zeros is very commonly used. Here, with 3 rows and 4 columns.\n",
        "\n",
        "zerosArray = np.zeros((3, 4))\n",
        "zerosArray"
      ],
      "execution_count": 0,
      "outputs": [
        {
          "output_type": "execute_result",
          "data": {
            "text/plain": [
              "array([[0., 0., 0., 0.],\n",
              "       [0., 0., 0., 0.],\n",
              "       [0., 0., 0., 0.]])"
            ]
          },
          "metadata": {
            "tags": []
          },
          "execution_count": 6
        }
      ]
    },
    {
      "cell_type": "code",
      "metadata": {
        "id": "aSw_jbWtAyH3",
        "colab_type": "code",
        "outputId": "74cdae15-b07e-489f-835a-fff6af761bed",
        "colab": {
          "base_uri": "https://localhost:8080/",
          "height": 50
        }
      },
      "source": [
        "# id dtype isn't specified, it would have been a float.\n",
        "\n",
        "onesArray = np.ones((2, 2), dtype = np.int16)\n",
        "onesArray"
      ],
      "execution_count": 0,
      "outputs": [
        {
          "output_type": "execute_result",
          "data": {
            "text/plain": [
              "array([[1, 1],\n",
              "       [1, 1]], dtype=int16)"
            ]
          },
          "metadata": {
            "tags": []
          },
          "execution_count": 8
        }
      ]
    },
    {
      "cell_type": "code",
      "metadata": {
        "id": "SERqp_mgBJNE",
        "colab_type": "code",
        "outputId": "71b8876f-7289-4c82-aa21-e1e68e3ae67b",
        "colab": {
          "base_uri": "https://localhost:8080/",
          "height": 50
        }
      },
      "source": [
        "# To create an array, but not initialize it. Gives random values.\n",
        "\n",
        "emptyArray  = np.empty((2, 3))\n",
        "emptyArray"
      ],
      "execution_count": 0,
      "outputs": [
        {
          "output_type": "execute_result",
          "data": {
            "text/plain": [
              "array([[2.2519678e-316, 0.0000000e+000, 0.0000000e+000],\n",
              "       [0.0000000e+000, 0.0000000e+000, 0.0000000e+000]])"
            ]
          },
          "metadata": {
            "tags": []
          },
          "execution_count": 9
        }
      ]
    },
    {
      "cell_type": "code",
      "metadata": {
        "id": "kLQ37Fh0BkNB",
        "colab_type": "code",
        "outputId": "7bbc10dc-2c29-4396-9941-cf1071e57ff9",
        "colab": {
          "base_uri": "https://localhost:8080/",
          "height": 84
        }
      },
      "source": [
        "# Square matrix with ones along the diagonals and zeros elsewhere.\n",
        "\n",
        "eyeArray = np.eye(4, dtype = np.int16)\n",
        "eyeArray"
      ],
      "execution_count": 0,
      "outputs": [
        {
          "output_type": "execute_result",
          "data": {
            "text/plain": [
              "array([[1, 0, 0, 0],\n",
              "       [0, 1, 0, 0],\n",
              "       [0, 0, 1, 0],\n",
              "       [0, 0, 0, 1]], dtype=int16)"
            ]
          },
          "metadata": {
            "tags": []
          },
          "execution_count": 11
        }
      ]
    },
    {
      "cell_type": "code",
      "metadata": {
        "id": "D7EaQVsbCJXI",
        "colab_type": "code",
        "outputId": "a1988014-0036-4a06-e67a-874883dca01b",
        "colab": {
          "base_uri": "https://localhost:8080/",
          "height": 50
        }
      },
      "source": [
        "# arange - start, end, step\n",
        "\n",
        "arangeArray = np.arange(1, 10, 0.5)\n",
        "arangeArray"
      ],
      "execution_count": 0,
      "outputs": [
        {
          "output_type": "execute_result",
          "data": {
            "text/plain": [
              "array([1. , 1.5, 2. , 2.5, 3. , 3.5, 4. , 4.5, 5. , 5.5, 6. , 6.5, 7. ,\n",
              "       7.5, 8. , 8.5, 9. , 9.5])"
            ]
          },
          "metadata": {
            "tags": []
          },
          "execution_count": 13
        }
      ]
    },
    {
      "cell_type": "code",
      "metadata": {
        "id": "aasOASoWCkXt",
        "colab_type": "code",
        "outputId": "9f5c86a1-7e84-4139-9b56-6a09b53be237",
        "colab": {
          "base_uri": "https://localhost:8080/",
          "height": 50
        }
      },
      "source": [
        "# nD arrays with list of lists\n",
        "\n",
        "nDArray = np.array([(1, 2, 3), (4, 5, 6)])\n",
        "nDArray"
      ],
      "execution_count": 0,
      "outputs": [
        {
          "output_type": "execute_result",
          "data": {
            "text/plain": [
              "array([[1, 2, 3],\n",
              "       [4, 5, 6]])"
            ]
          },
          "metadata": {
            "tags": []
          },
          "execution_count": 14
        }
      ]
    },
    {
      "cell_type": "code",
      "metadata": {
        "id": "LJipMIBxC0xM",
        "colab_type": "code",
        "outputId": "4c94d3c7-fbb8-4853-e714-973f63deb174",
        "colab": {
          "base_uri": "https://localhost:8080/",
          "height": 34
        }
      },
      "source": [
        "nDArray.shape"
      ],
      "execution_count": 0,
      "outputs": [
        {
          "output_type": "execute_result",
          "data": {
            "text/plain": [
              "(2, 3)"
            ]
          },
          "metadata": {
            "tags": []
          },
          "execution_count": 15
        }
      ]
    },
    {
      "cell_type": "code",
      "metadata": {
        "id": "3J8Cf8JxHtH9",
        "colab_type": "code",
        "outputId": "efde6689-112c-4d99-de52-56f4c83c6511",
        "colab": {
          "base_uri": "https://localhost:8080/",
          "height": 50
        }
      },
      "source": [
        "# to reshape arrays, create an array with arange or sth else and reshape it.\n",
        "\n",
        "arrayA = np.arange(0, 11, 2).reshape(2, 3)\n",
        "arrayA"
      ],
      "execution_count": 0,
      "outputs": [
        {
          "output_type": "execute_result",
          "data": {
            "text/plain": [
              "array([[ 0,  2,  4],\n",
              "       [ 6,  8, 10]])"
            ]
          },
          "metadata": {
            "tags": []
          },
          "execution_count": 20
        }
      ]
    },
    {
      "cell_type": "code",
      "metadata": {
        "id": "-FYDzsLOINOy",
        "colab_type": "code",
        "outputId": "ca41a17b-eb8c-4179-81bf-11ecd0a330ee",
        "colab": {
          "base_uri": "https://localhost:8080/",
          "height": 50
        }
      },
      "source": [
        "ones = np.ones_like(arrayA)\n",
        "ones"
      ],
      "execution_count": 0,
      "outputs": [
        {
          "output_type": "execute_result",
          "data": {
            "text/plain": [
              "array([[1, 1, 1],\n",
              "       [1, 1, 1]])"
            ]
          },
          "metadata": {
            "tags": []
          },
          "execution_count": 22
        }
      ]
    },
    {
      "cell_type": "markdown",
      "metadata": {
        "id": "cJ8dqXTLI3XD",
        "colab_type": "text"
      },
      "source": [
        "# Printing Arrays"
      ]
    },
    {
      "cell_type": "code",
      "metadata": {
        "id": "ZHKCCNYpI9h-",
        "colab_type": "code",
        "outputId": "90a814ce-3e62-40af-9f20-fad14d118805",
        "colab": {
          "base_uri": "https://localhost:8080/",
          "height": 134
        }
      },
      "source": [
        "# 2 x 3 x 4 array\n",
        "\n",
        "a = np.arange(24).reshape(2, 3, 4)\n",
        "print(a)"
      ],
      "execution_count": 0,
      "outputs": [
        {
          "output_type": "stream",
          "text": [
            "[[[ 0  1  2  3]\n",
            "  [ 4  5  6  7]\n",
            "  [ 8  9 10 11]]\n",
            "\n",
            " [[12 13 14 15]\n",
            "  [16 17 18 19]\n",
            "  [20 21 22 23]]]\n"
          ],
          "name": "stdout"
        }
      ]
    },
    {
      "cell_type": "markdown",
      "metadata": {
        "id": "npXultOPJ9-j",
        "colab_type": "text"
      },
      "source": [
        "In the following examples, not all elements are printed. So, when we set print options to a threshold value, all arrays in the notebook will follow that."
      ]
    },
    {
      "cell_type": "code",
      "metadata": {
        "id": "mxFDv6KpKLid",
        "colab_type": "code",
        "outputId": "4ccea262-2dd9-4593-c6b6-ca9126568476",
        "colab": {
          "base_uri": "https://localhost:8080/",
          "height": 34
        }
      },
      "source": [
        "print(np.arange(100000))"
      ],
      "execution_count": 0,
      "outputs": [
        {
          "output_type": "stream",
          "text": [
            "[    0     1     2 ... 99997 99998 99999]\n"
          ],
          "name": "stdout"
        }
      ]
    },
    {
      "cell_type": "code",
      "metadata": {
        "id": "uGbL8vyQLQE2",
        "colab_type": "code",
        "colab": {}
      },
      "source": [
        "np.set_printoptions(threshold = np.nan)\n",
        "print(np.arange(100000).reshape(100, 1000))"
      ],
      "execution_count": 0,
      "outputs": []
    },
    {
      "cell_type": "markdown",
      "metadata": {
        "id": "O873FSjDLZfq",
        "colab_type": "text"
      },
      "source": [
        "# Basic Operations"
      ]
    },
    {
      "cell_type": "code",
      "metadata": {
        "id": "4i4RPiXwLboh",
        "colab_type": "code",
        "outputId": "8ea9f0c0-1864-427c-8a81-d1a746126b66",
        "colab": {
          "base_uri": "https://localhost:8080/",
          "height": 34
        }
      },
      "source": [
        "a = np.array([1, 2, 3])\n",
        "b = np.array([3, 4, 5])\n",
        "a + b"
      ],
      "execution_count": 0,
      "outputs": [
        {
          "output_type": "execute_result",
          "data": {
            "text/plain": [
              "array([4, 6, 8])"
            ]
          },
          "metadata": {
            "tags": []
          },
          "execution_count": 32
        }
      ]
    },
    {
      "cell_type": "code",
      "metadata": {
        "id": "3lqbT4mILlp7",
        "colab_type": "code",
        "outputId": "14ae55ca-eee8-43f2-e282-6b42e1373648",
        "colab": {
          "base_uri": "https://localhost:8080/",
          "height": 34
        }
      },
      "source": [
        "# This is NOT matrix multiplication. This is element wise multiplication.\n",
        "a * b"
      ],
      "execution_count": 0,
      "outputs": [
        {
          "output_type": "execute_result",
          "data": {
            "text/plain": [
              "array([ 3,  8, 15])"
            ]
          },
          "metadata": {
            "tags": []
          },
          "execution_count": 33
        }
      ]
    },
    {
      "cell_type": "code",
      "metadata": {
        "id": "4Vw2j735LqcF",
        "colab_type": "code",
        "outputId": "0f5e452d-2ea2-4404-893a-f4c15591dc07",
        "colab": {
          "base_uri": "https://localhost:8080/",
          "height": 34
        }
      },
      "source": [
        "# modulo operation\n",
        "\n",
        "a % 2"
      ],
      "execution_count": 0,
      "outputs": [
        {
          "output_type": "execute_result",
          "data": {
            "text/plain": [
              "array([1, 0, 1])"
            ]
          },
          "metadata": {
            "tags": []
          },
          "execution_count": 34
        }
      ]
    },
    {
      "cell_type": "code",
      "metadata": {
        "id": "eXDF6909L0qs",
        "colab_type": "code",
        "outputId": "c86dbbef-8428-4ebd-e73b-41ee10dd1521",
        "colab": {
          "base_uri": "https://localhost:8080/",
          "height": 34
        }
      },
      "source": [
        "# Conditional operation\n",
        "\n",
        "a < 2"
      ],
      "execution_count": 0,
      "outputs": [
        {
          "output_type": "execute_result",
          "data": {
            "text/plain": [
              "array([ True, False, False])"
            ]
          },
          "metadata": {
            "tags": []
          },
          "execution_count": 36
        }
      ]
    },
    {
      "cell_type": "code",
      "metadata": {
        "id": "UMpg9IQrL8J2",
        "colab_type": "code",
        "outputId": "706c8f11-3cad-47e4-d781-3138d0d5c831",
        "colab": {
          "base_uri": "https://localhost:8080/",
          "height": 50
        }
      },
      "source": [
        "# For matrix multiplication, use .dot()\n",
        "# matrix multiplication[row, col] = sum(all elements in row * all the elements in col)\n",
        "\n",
        "a = np.array([[1, 2], [3, 4]])\n",
        "b = np.array([[5, 6], [7, 8]])\n",
        "a.dot(b)"
      ],
      "execution_count": 0,
      "outputs": [
        {
          "output_type": "execute_result",
          "data": {
            "text/plain": [
              "array([[19, 22],\n",
              "       [43, 50]])"
            ]
          },
          "metadata": {
            "tags": []
          },
          "execution_count": 42
        }
      ]
    },
    {
      "cell_type": "code",
      "metadata": {
        "id": "yykXa0rFNx17",
        "colab_type": "code",
        "outputId": "2c2ee978-99e1-4293-c7c5-bc142b0d0bd1",
        "colab": {
          "base_uri": "https://localhost:8080/",
          "height": 50
        }
      },
      "source": [
        "np.dot(a, b)"
      ],
      "execution_count": 0,
      "outputs": [
        {
          "output_type": "execute_result",
          "data": {
            "text/plain": [
              "array([[19, 22],\n",
              "       [43, 50]])"
            ]
          },
          "metadata": {
            "tags": []
          },
          "execution_count": 43
        }
      ]
    },
    {
      "cell_type": "code",
      "metadata": {
        "id": "CQ5Hn6mqN5YL",
        "colab_type": "code",
        "outputId": "f4ad907a-ba56-42c5-ba02-72f8cd245904",
        "colab": {
          "base_uri": "https://localhost:8080/",
          "height": 34
        }
      },
      "source": [
        "c = np.array([1, 2, 3, 4, 5, 6])\n",
        "c.sum()"
      ],
      "execution_count": 0,
      "outputs": [
        {
          "output_type": "execute_result",
          "data": {
            "text/plain": [
              "21"
            ]
          },
          "metadata": {
            "tags": []
          },
          "execution_count": 46
        }
      ]
    },
    {
      "cell_type": "code",
      "metadata": {
        "id": "tK3cA01jOY0S",
        "colab_type": "code",
        "outputId": "ae16aeed-954b-4e8e-bdbc-fa172a1bbf16",
        "colab": {
          "base_uri": "https://localhost:8080/",
          "height": 34
        }
      },
      "source": [
        "c.min()"
      ],
      "execution_count": 0,
      "outputs": [
        {
          "output_type": "execute_result",
          "data": {
            "text/plain": [
              "1"
            ]
          },
          "metadata": {
            "tags": []
          },
          "execution_count": 47
        }
      ]
    },
    {
      "cell_type": "code",
      "metadata": {
        "id": "3VcgUqUNOaZB",
        "colab_type": "code",
        "outputId": "7a5d34b7-6f42-4f09-8630-fb9f77876273",
        "colab": {
          "base_uri": "https://localhost:8080/",
          "height": 34
        }
      },
      "source": [
        "c.max()"
      ],
      "execution_count": 0,
      "outputs": [
        {
          "output_type": "execute_result",
          "data": {
            "text/plain": [
              "6"
            ]
          },
          "metadata": {
            "tags": []
          },
          "execution_count": 49
        }
      ]
    },
    {
      "cell_type": "code",
      "metadata": {
        "id": "7YSjZymvOdbF",
        "colab_type": "code",
        "outputId": "4d8dba47-d37f-4e6b-a5f7-8b8d88c8d902",
        "colab": {
          "base_uri": "https://localhost:8080/",
          "height": 34
        }
      },
      "source": [
        "a = np.arange(0, 11, 2).reshape(2, 3)\n",
        "\n",
        "# axis = 0 -> columns\n",
        "a.sum(axis = 0)"
      ],
      "execution_count": 0,
      "outputs": [
        {
          "output_type": "execute_result",
          "data": {
            "text/plain": [
              "array([ 6, 10, 14])"
            ]
          },
          "metadata": {
            "tags": []
          },
          "execution_count": 51
        }
      ]
    },
    {
      "cell_type": "code",
      "metadata": {
        "id": "uI_yijFrOxGj",
        "colab_type": "code",
        "outputId": "8d932337-067b-4068-8801-4f439f4712fc",
        "colab": {
          "base_uri": "https://localhost:8080/",
          "height": 34
        }
      },
      "source": [
        "# axis = 1 -> rows\n",
        "\n",
        "a.sum(axis = 1)"
      ],
      "execution_count": 0,
      "outputs": [
        {
          "output_type": "execute_result",
          "data": {
            "text/plain": [
              "array([ 6, 24])"
            ]
          },
          "metadata": {
            "tags": []
          },
          "execution_count": 52
        }
      ]
    },
    {
      "cell_type": "markdown",
      "metadata": {
        "id": "TrPClBnqPI2x",
        "colab_type": "text"
      },
      "source": [
        "# Universal Functions\n",
        "\n",
        "Mathematical operations like sine, cos, etc.\n"
      ]
    },
    {
      "cell_type": "code",
      "metadata": {
        "id": "oIFKpYMYPOII",
        "colab_type": "code",
        "outputId": "5aa0e399-b8c3-40fc-f3b3-31954d8f0e71",
        "colab": {
          "base_uri": "https://localhost:8080/",
          "height": 34
        }
      },
      "source": [
        "angles = np.array([0, 30, 45, 60, 90])\n",
        "\n",
        "# to display angles into radians, we multiply by pi and divide by 180\n",
        "angleRadians = angles * np.pi / 180\n",
        "angleRadians "
      ],
      "execution_count": 0,
      "outputs": [
        {
          "output_type": "execute_result",
          "data": {
            "text/plain": [
              "array([0.        , 0.52359878, 0.78539816, 1.04719755, 1.57079633])"
            ]
          },
          "metadata": {
            "tags": []
          },
          "execution_count": 53
        }
      ]
    },
    {
      "cell_type": "code",
      "metadata": {
        "id": "mrTOvM4qPqim",
        "colab_type": "code",
        "outputId": "9c9ee1fa-2d40-4863-807a-c723fa06b523",
        "colab": {
          "base_uri": "https://localhost:8080/",
          "height": 34
        }
      },
      "source": [
        "sine = np.sin(angles)\n",
        "sine"
      ],
      "execution_count": 0,
      "outputs": [
        {
          "output_type": "execute_result",
          "data": {
            "text/plain": [
              "array([ 0.        , -0.98803162,  0.85090352, -0.30481062,  0.89399666])"
            ]
          },
          "metadata": {
            "tags": []
          },
          "execution_count": 58
        }
      ]
    },
    {
      "cell_type": "code",
      "metadata": {
        "id": "IV0DYGrnSS0l",
        "colab_type": "code",
        "outputId": "fdf11666-b1c4-4975-e74e-369c525871f4",
        "colab": {
          "base_uri": "https://localhost:8080/",
          "height": 34
        }
      },
      "source": [
        "# Gives radians\n",
        "sinInv = np.arcsin(sine)\n",
        "sinInv"
      ],
      "execution_count": 0,
      "outputs": [
        {
          "output_type": "execute_result",
          "data": {
            "text/plain": [
              "array([ 0.        , -1.41592654,  1.01770285, -0.30973958,  1.10618695])"
            ]
          },
          "metadata": {
            "tags": []
          },
          "execution_count": 59
        }
      ]
    },
    {
      "cell_type": "code",
      "metadata": {
        "id": "zcv4X_V6SW-x",
        "colab_type": "code",
        "outputId": "1d40a9c8-1ba2-4f51-83ab-e516d1ace8f0",
        "colab": {
          "base_uri": "https://localhost:8080/",
          "height": 50
        }
      },
      "source": [
        "# angles in radians to degrees\n",
        "degrees = np.degrees(sinInv)\n",
        "degrees"
      ],
      "execution_count": 0,
      "outputs": [
        {
          "output_type": "execute_result",
          "data": {
            "text/plain": [
              "array([  0.        , -81.12661461,  58.31007809, -17.74677078,\n",
              "        63.37984382])"
            ]
          },
          "metadata": {
            "tags": []
          },
          "execution_count": 61
        }
      ]
    },
    {
      "cell_type": "code",
      "metadata": {
        "id": "bXMSEsgGStMT",
        "colab_type": "code",
        "outputId": "2c1f520e-cc9c-42f4-9817-6f9512bff02b",
        "colab": {
          "base_uri": "https://localhost:8080/",
          "height": 34
        }
      },
      "source": [
        "# Statistical functions\n",
        "# mean is average\n",
        "scores = np.array([1, 2, 3, 4, 2, 3, 4, 5, 6, 2, 3, 4, 5, 1])\n",
        "print(np.mean(scores))"
      ],
      "execution_count": 0,
      "outputs": [
        {
          "output_type": "stream",
          "text": [
            "3.2142857142857144\n"
          ],
          "name": "stdout"
        }
      ]
    },
    {
      "cell_type": "code",
      "metadata": {
        "id": "WBe3jJngTMqu",
        "colab_type": "code",
        "outputId": "79f63a64-c0c5-4372-83ed-ff6954e30e1d",
        "colab": {
          "base_uri": "https://localhost:8080/",
          "height": 34
        }
      },
      "source": [
        "np.median(scores)"
      ],
      "execution_count": 0,
      "outputs": [
        {
          "output_type": "execute_result",
          "data": {
            "text/plain": [
              "3.0"
            ]
          },
          "metadata": {
            "tags": []
          },
          "execution_count": 64
        }
      ]
    },
    {
      "cell_type": "markdown",
      "metadata": {
        "id": "dpk6QnaiTntg",
        "colab_type": "text"
      },
      "source": [
        "# Indexing and Slicing Arrays\n",
        "\n",
        "To access a subset of an array"
      ]
    },
    {
      "cell_type": "code",
      "metadata": {
        "id": "62VZayYHTqdX",
        "colab_type": "code",
        "outputId": "4897c7d9-56e7-4f7c-aca4-b916707dda45",
        "colab": {
          "base_uri": "https://localhost:8080/",
          "height": 34
        }
      },
      "source": [
        "import numpy as np\n",
        "\n",
        "a = np.arange(0, 10, 1)** 2\n",
        "a"
      ],
      "execution_count": 0,
      "outputs": [
        {
          "output_type": "execute_result",
          "data": {
            "text/plain": [
              "array([ 0,  1,  4,  9, 16, 25, 36, 49, 64, 81])"
            ]
          },
          "metadata": {
            "tags": []
          },
          "execution_count": 1
        }
      ]
    },
    {
      "cell_type": "code",
      "metadata": {
        "id": "jLko4iIOx1k5",
        "colab_type": "code",
        "outputId": "15fc9c0d-b99f-40f2-85b0-39a8668769b4",
        "colab": {
          "base_uri": "https://localhost:8080/",
          "height": 34
        }
      },
      "source": [
        "a[2]"
      ],
      "execution_count": 0,
      "outputs": [
        {
          "output_type": "execute_result",
          "data": {
            "text/plain": [
              "4"
            ]
          },
          "metadata": {
            "tags": []
          },
          "execution_count": 2
        }
      ]
    },
    {
      "cell_type": "code",
      "metadata": {
        "id": "MzSfQ2Hjx9KH",
        "colab_type": "code",
        "outputId": "ed31f937-ef1b-42b5-8873-75ac3ecf34b8",
        "colab": {
          "base_uri": "https://localhost:8080/",
          "height": 34
        }
      },
      "source": [
        "# Start counting from the last\n",
        "a[-2]"
      ],
      "execution_count": 0,
      "outputs": [
        {
          "output_type": "execute_result",
          "data": {
            "text/plain": [
              "64"
            ]
          },
          "metadata": {
            "tags": []
          },
          "execution_count": 3
        }
      ]
    },
    {
      "cell_type": "code",
      "metadata": {
        "id": "q-qBr1_cyFbB",
        "colab_type": "code",
        "outputId": "abbd4d94-ae69-4dd8-ce46-aa9518fa86dc",
        "colab": {
          "base_uri": "https://localhost:8080/",
          "height": 34
        }
      },
      "source": [
        "# start from index 2 and upto 7 but don't include 7. End index is ALWAYS excluded.\n",
        "a[2:7]"
      ],
      "execution_count": 0,
      "outputs": [
        {
          "output_type": "execute_result",
          "data": {
            "text/plain": [
              "array([ 4,  9, 16, 25, 36])"
            ]
          },
          "metadata": {
            "tags": []
          },
          "execution_count": 4
        }
      ]
    },
    {
      "cell_type": "code",
      "metadata": {
        "id": "6vdoFqIRyORh",
        "colab_type": "code",
        "outputId": "b1f6bc60-2f1a-4d27-c007-63e0fcfb7ab0",
        "colab": {
          "base_uri": "https://localhost:8080/",
          "height": 34
        }
      },
      "source": [
        "a[2:-3]"
      ],
      "execution_count": 0,
      "outputs": [
        {
          "output_type": "execute_result",
          "data": {
            "text/plain": [
              "array([ 4,  9, 16, 25, 36])"
            ]
          },
          "metadata": {
            "tags": []
          },
          "execution_count": 5
        }
      ]
    },
    {
      "cell_type": "code",
      "metadata": {
        "id": "cygvMYo5ycx9",
        "colab_type": "code",
        "outputId": "2b8eff6c-b534-46a0-a905-5d85d3fa1b21",
        "colab": {
          "base_uri": "https://localhost:8080/",
          "height": 34
        }
      },
      "source": [
        "# Go till the end\n",
        "a[3:]"
      ],
      "execution_count": 0,
      "outputs": [
        {
          "output_type": "execute_result",
          "data": {
            "text/plain": [
              "array([ 9, 16, 25, 36, 49, 64, 81])"
            ]
          },
          "metadata": {
            "tags": []
          },
          "execution_count": 6
        }
      ]
    },
    {
      "cell_type": "code",
      "metadata": {
        "id": "MVjVVOZhy71A",
        "colab_type": "code",
        "outputId": "65f1a7bf-d41c-4fa7-ffdd-4f782018804a",
        "colab": {
          "base_uri": "https://localhost:8080/",
          "height": 34
        }
      },
      "source": [
        "a[:3]"
      ],
      "execution_count": 0,
      "outputs": [
        {
          "output_type": "execute_result",
          "data": {
            "text/plain": [
              "array([0, 1, 4])"
            ]
          },
          "metadata": {
            "tags": []
          },
          "execution_count": 7
        }
      ]
    },
    {
      "cell_type": "code",
      "metadata": {
        "id": "OBbyU3htzFOS",
        "colab_type": "code",
        "outputId": "8fcee772-3ddd-4df2-a526-f9848b44856f",
        "colab": {
          "base_uri": "https://localhost:8080/",
          "height": 34
        }
      },
      "source": [
        "# start, end, step\n",
        "a[1: 8: 2]"
      ],
      "execution_count": 0,
      "outputs": [
        {
          "output_type": "execute_result",
          "data": {
            "text/plain": [
              "array([ 1,  9, 25, 49])"
            ]
          },
          "metadata": {
            "tags": []
          },
          "execution_count": 9
        }
      ]
    },
    {
      "cell_type": "code",
      "metadata": {
        "id": "qGHyMKHSzR4J",
        "colab_type": "code",
        "outputId": "3fd4f03b-d88b-4fb4-8763-50fece27652d",
        "colab": {
          "base_uri": "https://localhost:8080/",
          "height": 34
        }
      },
      "source": [
        "# A tricky way to reverse an array\n",
        "a[::-1]"
      ],
      "execution_count": 0,
      "outputs": [
        {
          "output_type": "execute_result",
          "data": {
            "text/plain": [
              "array([81, 64, 49, 36, 25, 16,  9,  4,  1,  0])"
            ]
          },
          "metadata": {
            "tags": []
          },
          "execution_count": 10
        }
      ]
    },
    {
      "cell_type": "code",
      "metadata": {
        "id": "Zr0v6N53z7Tm",
        "colab_type": "code",
        "outputId": "d5da92c3-81fa-47d5-8bf5-ba392b09bd5f",
        "colab": {
          "base_uri": "https://localhost:8080/",
          "height": 34
        }
      },
      "source": [
        "# Numpy arrays need not have same data type\n",
        "\n",
        "students  = [['Aseem', 'Savio', 'Don', 'Gal'],\n",
        "            [1, 2, 3, 4],\n",
        "            [98, 97, 96, 100]]\n",
        "students"
      ],
      "execution_count": 0,
      "outputs": [
        {
          "output_type": "execute_result",
          "data": {
            "text/plain": [
              "[['Aseem', 'Savio', 'Don', 'Gal'], [1, 2, 3, 4], [98, 97, 96, 100]]"
            ]
          },
          "metadata": {
            "tags": []
          },
          "execution_count": 17
        }
      ]
    },
    {
      "cell_type": "code",
      "metadata": {
        "id": "L86rqbfa0lNa",
        "colab_type": "code",
        "outputId": "39b24780-f38f-4e74-9d21-dbe20f9b8981",
        "colab": {
          "base_uri": "https://localhost:8080/",
          "height": 67
        }
      },
      "source": [
        "stud = np.array(students)\n",
        "stud"
      ],
      "execution_count": 0,
      "outputs": [
        {
          "output_type": "execute_result",
          "data": {
            "text/plain": [
              "array([['Aseem', 'Savio', 'Don', 'Gal'],\n",
              "       ['1', '2', '3', '4'],\n",
              "       ['98', '97', '96', '100']], dtype='<U5')"
            ]
          },
          "metadata": {
            "tags": []
          },
          "execution_count": 18
        }
      ]
    },
    {
      "cell_type": "markdown",
      "metadata": {
        "id": "MgnQV7qb03Xy",
        "colab_type": "text"
      },
      "source": [
        "dtype='<U5' is the data type.\n",
        "< means Little endian.\n",
        "> means Big endian.\n",
        "U means Unicode."
      ]
    },
    {
      "cell_type": "code",
      "metadata": {
        "id": "cJMe0f2l1L61",
        "colab_type": "code",
        "outputId": "fc720d9e-e98b-4cba-d052-1ddb1b7713c2",
        "colab": {
          "base_uri": "https://localhost:8080/",
          "height": 34
        }
      },
      "source": [
        "stud[0]"
      ],
      "execution_count": 0,
      "outputs": [
        {
          "output_type": "execute_result",
          "data": {
            "text/plain": [
              "array(['Aseem', 'Savio', 'Don', 'Gal'], dtype='<U5')"
            ]
          },
          "metadata": {
            "tags": []
          },
          "execution_count": 19
        }
      ]
    },
    {
      "cell_type": "code",
      "metadata": {
        "id": "1fOuJ3C51OqL",
        "colab_type": "code",
        "outputId": "5d94af66-3a20-4d9a-b629-61de51699154",
        "colab": {
          "base_uri": "https://localhost:8080/",
          "height": 34
        }
      },
      "source": [
        "stud[1, 2]"
      ],
      "execution_count": 0,
      "outputs": [
        {
          "output_type": "execute_result",
          "data": {
            "text/plain": [
              "'3'"
            ]
          },
          "metadata": {
            "tags": []
          },
          "execution_count": 20
        }
      ]
    },
    {
      "cell_type": "code",
      "metadata": {
        "id": "Ys4aJGsj1RD1",
        "colab_type": "code",
        "outputId": "032e8297-5314-4292-a8eb-986d5014fc70",
        "colab": {
          "base_uri": "https://localhost:8080/",
          "height": 50
        }
      },
      "source": [
        "# rows, column\n",
        "stud[0:2, 2:4]"
      ],
      "execution_count": 0,
      "outputs": [
        {
          "output_type": "execute_result",
          "data": {
            "text/plain": [
              "array([['Don', 'Gal'],\n",
              "       ['3', '4']], dtype='<U5')"
            ]
          },
          "metadata": {
            "tags": []
          },
          "execution_count": 21
        }
      ]
    },
    {
      "cell_type": "code",
      "metadata": {
        "id": "Nlp-WzLN2IbA",
        "colab_type": "code",
        "outputId": "39814bca-eb4f-448c-d3bb-be1d8bae5089",
        "colab": {
          "base_uri": "https://localhost:8080/",
          "height": 67
        }
      },
      "source": [
        "# All rows; columns 0 to 1, excluding col 1\n",
        "stud[:, 0:1]"
      ],
      "execution_count": 0,
      "outputs": [
        {
          "output_type": "execute_result",
          "data": {
            "text/plain": [
              "array([['Aseem'],\n",
              "       ['1'],\n",
              "       ['98']], dtype='<U5')"
            ]
          },
          "metadata": {
            "tags": []
          },
          "execution_count": 26
        }
      ]
    },
    {
      "cell_type": "code",
      "metadata": {
        "id": "XQs9bA9q3CDW",
        "colab_type": "code",
        "outputId": "2ad6f4ce-2582-47fb-ac10-9a114dbb09e3",
        "colab": {
          "base_uri": "https://localhost:8080/",
          "height": 34
        }
      },
      "source": [
        "# row 0; all cols.\n",
        "stud[0:1,:]"
      ],
      "execution_count": 0,
      "outputs": [
        {
          "output_type": "execute_result",
          "data": {
            "text/plain": [
              "array([['Aseem', 'Savio', 'Don', 'Gal']], dtype='<U5')"
            ]
          },
          "metadata": {
            "tags": []
          },
          "execution_count": 27
        }
      ]
    },
    {
      "cell_type": "code",
      "metadata": {
        "id": "jl_lSRzx3T9n",
        "colab_type": "code",
        "outputId": "a52cf646-6d14-42c8-e899-ae3a84796c4d",
        "colab": {
          "base_uri": "https://localhost:8080/",
          "height": 34
        }
      },
      "source": [
        "# row 1 and all cols\n",
        "stud[1, ...]"
      ],
      "execution_count": 0,
      "outputs": [
        {
          "output_type": "execute_result",
          "data": {
            "text/plain": [
              "array(['1', '2', '3', '4'], dtype='<U5')"
            ]
          },
          "metadata": {
            "tags": []
          },
          "execution_count": 28
        }
      ]
    },
    {
      "cell_type": "markdown",
      "metadata": {
        "id": "-7ZgwqnNK6yy",
        "colab_type": "text"
      },
      "source": [
        "# Iterating over Arrays"
      ]
    },
    {
      "cell_type": "code",
      "metadata": {
        "id": "z63PC5iALQe-",
        "colab_type": "code",
        "outputId": "0710a8ec-aba5-4769-e6b2-811ddb8d8d0e",
        "colab": {
          "base_uri": "https://localhost:8080/",
          "height": 34
        }
      },
      "source": [
        "import numpy as np;\n",
        "a = np.array(np.arange(0, 10)**2)\n",
        "a"
      ],
      "execution_count": 0,
      "outputs": [
        {
          "output_type": "execute_result",
          "data": {
            "text/plain": [
              "array([ 0,  1,  4,  9, 16, 25, 36, 49, 64, 81])"
            ]
          },
          "metadata": {
            "tags": []
          },
          "execution_count": 30
        }
      ]
    },
    {
      "cell_type": "code",
      "metadata": {
        "id": "K90gvB8zLk6Q",
        "colab_type": "code",
        "outputId": "c8f4545c-11c2-405d-dec9-6904adabfe2f",
        "colab": {
          "base_uri": "https://localhost:8080/",
          "height": 185
        }
      },
      "source": [
        "for i in a:\n",
        "  print(i)"
      ],
      "execution_count": 0,
      "outputs": [
        {
          "output_type": "stream",
          "text": [
            "0\n",
            "1\n",
            "4\n",
            "9\n",
            "16\n",
            "25\n",
            "36\n",
            "49\n",
            "64\n",
            "81\n"
          ],
          "name": "stdout"
        }
      ]
    },
    {
      "cell_type": "code",
      "metadata": {
        "id": "Wh7Mdt4wLxv5",
        "colab_type": "code",
        "outputId": "82e74058-cad7-4630-8a99-9027b11a439e",
        "colab": {
          "base_uri": "https://localhost:8080/",
          "height": 67
        }
      },
      "source": [
        "students  = [['Aseem', 'Savio', 'Don', 'Gal'],\n",
        "            [1, 2, 3, 4],\n",
        "            [98, 97, 96, 100]]\n",
        "\n",
        "stud = np.array(students)\n",
        "stud"
      ],
      "execution_count": 0,
      "outputs": [
        {
          "output_type": "execute_result",
          "data": {
            "text/plain": [
              "array([['Aseem', 'Savio', 'Don', 'Gal'],\n",
              "       ['1', '2', '3', '4'],\n",
              "       ['98', '97', '96', '100']], dtype='<U5')"
            ]
          },
          "metadata": {
            "tags": []
          },
          "execution_count": 33
        }
      ]
    },
    {
      "cell_type": "code",
      "metadata": {
        "id": "F8zdWLEHL_rn",
        "colab_type": "code",
        "outputId": "a8074088-bbbd-41e7-9f3f-6372902abe3c",
        "colab": {
          "base_uri": "https://localhost:8080/",
          "height": 218
        }
      },
      "source": [
        "# flatten function gives all the elements of an array. This is a row major flattening.\n",
        "\n",
        "for i in stud.flatten():\n",
        "  print(i)"
      ],
      "execution_count": 0,
      "outputs": [
        {
          "output_type": "stream",
          "text": [
            "Aseem\n",
            "Savio\n",
            "Don\n",
            "Gal\n",
            "1\n",
            "2\n",
            "3\n",
            "4\n",
            "98\n",
            "97\n",
            "96\n",
            "100\n"
          ],
          "name": "stdout"
        }
      ]
    },
    {
      "cell_type": "code",
      "metadata": {
        "id": "k9vxoyqjMgyJ",
        "colab_type": "code",
        "outputId": "1167456a-aea8-49cf-840a-e662cb18c7d5",
        "colab": {
          "base_uri": "https://localhost:8080/",
          "height": 218
        }
      },
      "source": [
        "# Column major flattening\n",
        "\n",
        "for i in stud.flatten(order = 'F'):\n",
        "  print(i)"
      ],
      "execution_count": 0,
      "outputs": [
        {
          "output_type": "stream",
          "text": [
            "Aseem\n",
            "1\n",
            "98\n",
            "Savio\n",
            "2\n",
            "97\n",
            "Don\n",
            "3\n",
            "96\n",
            "Gal\n",
            "4\n",
            "100\n"
          ],
          "name": "stdout"
        }
      ]
    },
    {
      "cell_type": "code",
      "metadata": {
        "id": "HjVwTaOvQDJe",
        "colab_type": "code",
        "outputId": "ab48ef71-df0b-4d69-f449-5b65cc75f427",
        "colab": {
          "base_uri": "https://localhost:8080/",
          "height": 218
        }
      },
      "source": [
        "# default is row \n",
        "for i in np.nditer(stud):\n",
        "  print(i)"
      ],
      "execution_count": 0,
      "outputs": [
        {
          "output_type": "stream",
          "text": [
            "Aseem\n",
            "Savio\n",
            "Don\n",
            "Gal\n",
            "1\n",
            "2\n",
            "3\n",
            "4\n",
            "98\n",
            "97\n",
            "96\n",
            "100\n"
          ],
          "name": "stdout"
        }
      ]
    },
    {
      "cell_type": "code",
      "metadata": {
        "id": "lAwxiakaQrbd",
        "colab_type": "code",
        "outputId": "1d246790-921d-4f9c-f8bd-5350f63323b4",
        "colab": {
          "base_uri": "https://localhost:8080/",
          "height": 218
        }
      },
      "source": [
        "# column\n",
        "\n",
        "for i in np.nditer(stud, order = 'F'):\n",
        "  print(i)"
      ],
      "execution_count": 0,
      "outputs": [
        {
          "output_type": "stream",
          "text": [
            "Aseem\n",
            "1\n",
            "98\n",
            "Savio\n",
            "2\n",
            "97\n",
            "Don\n",
            "3\n",
            "96\n",
            "Gal\n",
            "4\n",
            "100\n"
          ],
          "name": "stdout"
        }
      ]
    },
    {
      "cell_type": "markdown",
      "metadata": {
        "id": "f1lrYuJPQ9H4",
        "colab_type": "text"
      },
      "source": [
        "The difference between flatten() and nditter() is that the former returns a flattened array; while the latter just iterates over the array in the order you're interested in."
      ]
    },
    {
      "cell_type": "code",
      "metadata": {
        "id": "UsgAncx1RX11",
        "colab_type": "code",
        "outputId": "e8861fe1-d605-4dc7-af84-be76c3084e09",
        "colab": {
          "base_uri": "https://localhost:8080/",
          "height": 118
        }
      },
      "source": [
        "# To assign values add the op_\n",
        "array = np.array([[1, 2, 3], [4, 5, 6]])\n",
        "for i in np.nditer(array, op_flags = ['readwrite']):\n",
        "  i = i + 1\n",
        "  print(i)\n",
        " "
      ],
      "execution_count": 0,
      "outputs": [
        {
          "output_type": "stream",
          "text": [
            "2\n",
            "3\n",
            "4\n",
            "5\n",
            "6\n",
            "7\n"
          ],
          "name": "stdout"
        }
      ]
    },
    {
      "cell_type": "markdown",
      "metadata": {
        "id": "bva3PZtLS50z",
        "colab_type": "text"
      },
      "source": [
        "# Reshaping Arrays\n",
        "\n",
        "Usually done while working on Neural Networks."
      ]
    },
    {
      "cell_type": "code",
      "metadata": {
        "id": "DfdO8sPcTEPk",
        "colab_type": "code",
        "outputId": "b721cf93-e192-44c3-d635-c17e93a78797",
        "colab": {
          "base_uri": "https://localhost:8080/",
          "height": 50
        }
      },
      "source": [
        "a = np.array([['Aseem', 'Spider', 'Iron'], ['Savio', 'Parker', 'Man']])\n",
        "a"
      ],
      "execution_count": 0,
      "outputs": [
        {
          "output_type": "execute_result",
          "data": {
            "text/plain": [
              "array([['Aseem', 'Spider', 'Iron'],\n",
              "       ['Savio', 'Parker', 'Man']], dtype='<U6')"
            ]
          },
          "metadata": {
            "tags": []
          },
          "execution_count": 21
        }
      ]
    },
    {
      "cell_type": "code",
      "metadata": {
        "id": "7cvujkrRTceT",
        "colab_type": "code",
        "outputId": "471bb22a-ffa8-4c45-a9da-2d2dda74562c",
        "colab": {
          "base_uri": "https://localhost:8080/",
          "height": 34
        }
      },
      "source": [
        "a.shape"
      ],
      "execution_count": 0,
      "outputs": [
        {
          "output_type": "execute_result",
          "data": {
            "text/plain": [
              "(2, 3)"
            ]
          },
          "metadata": {
            "tags": []
          },
          "execution_count": 22
        }
      ]
    },
    {
      "cell_type": "code",
      "metadata": {
        "id": "oG2fUPJrTsjk",
        "colab_type": "code",
        "outputId": "7b6606c0-5ad1-445d-bfb0-b7dc52845c48",
        "colab": {
          "base_uri": "https://localhost:8080/",
          "height": 34
        }
      },
      "source": [
        "# flattens an array to an 1D vector.\n",
        "a.ravel()"
      ],
      "execution_count": 0,
      "outputs": [
        {
          "output_type": "execute_result",
          "data": {
            "text/plain": [
              "array(['Aseem', 'Spider', 'Iron', 'Savio', 'Parker', 'Man'], dtype='<U6')"
            ]
          },
          "metadata": {
            "tags": []
          },
          "execution_count": 23
        }
      ]
    },
    {
      "cell_type": "code",
      "metadata": {
        "id": "bQQ2yZ3uTzQ_",
        "colab_type": "code",
        "outputId": "01723a7b-7bd4-4cb3-830f-b603a8e2213a",
        "colab": {
          "base_uri": "https://localhost:8080/",
          "height": 50
        }
      },
      "source": [
        "# Transpose of a matrix/ array -> all rows will become rows and all cols become rows.\n",
        "a"
      ],
      "execution_count": 0,
      "outputs": [
        {
          "output_type": "execute_result",
          "data": {
            "text/plain": [
              "array([['Aseem', 'Spider', 'Iron'],\n",
              "       ['Savio', 'Parker', 'Man']], dtype='<U6')"
            ]
          },
          "metadata": {
            "tags": []
          },
          "execution_count": 24
        }
      ]
    },
    {
      "cell_type": "code",
      "metadata": {
        "id": "DIK5oaA9UHnj",
        "colab_type": "code",
        "outputId": "75743df9-d733-45d2-aabf-7ecd9469b636",
        "colab": {
          "base_uri": "https://localhost:8080/",
          "height": 67
        }
      },
      "source": [
        "a.T"
      ],
      "execution_count": 0,
      "outputs": [
        {
          "output_type": "execute_result",
          "data": {
            "text/plain": [
              "array([['Aseem', 'Savio'],\n",
              "       ['Spider', 'Parker'],\n",
              "       ['Iron', 'Man']], dtype='<U6')"
            ]
          },
          "metadata": {
            "tags": []
          },
          "execution_count": 25
        }
      ]
    },
    {
      "cell_type": "code",
      "metadata": {
        "id": "MS4i88UNUKCT",
        "colab_type": "code",
        "outputId": "b901921d-511f-4e98-d6bf-bbd6d3e48376",
        "colab": {
          "base_uri": "https://localhost:8080/",
          "height": 34
        }
      },
      "source": [
        "a.T.ravel()"
      ],
      "execution_count": 0,
      "outputs": [
        {
          "output_type": "execute_result",
          "data": {
            "text/plain": [
              "array(['Aseem', 'Savio', 'Spider', 'Parker', 'Iron', 'Man'], dtype='<U6')"
            ]
          },
          "metadata": {
            "tags": []
          },
          "execution_count": 26
        }
      ]
    },
    {
      "cell_type": "code",
      "metadata": {
        "id": "IU47coSRUYXm",
        "colab_type": "code",
        "outputId": "602873a9-e18b-42d1-97f1-1937a00dbf2a",
        "colab": {
          "base_uri": "https://localhost:8080/",
          "height": 50
        }
      },
      "source": [
        "a.T.ravel().reshape(2, 3)"
      ],
      "execution_count": 0,
      "outputs": [
        {
          "output_type": "execute_result",
          "data": {
            "text/plain": [
              "array([['Aseem', 'Savio', 'Spider'],\n",
              "       ['Parker', 'Iron', 'Man']], dtype='<U6')"
            ]
          },
          "metadata": {
            "tags": []
          },
          "execution_count": 27
        }
      ]
    },
    {
      "cell_type": "code",
      "metadata": {
        "id": "zpHAIKVyUd6u",
        "colab_type": "code",
        "outputId": "93eb3e59-9fb1-4bf9-d470-9ec7e363148e",
        "colab": {
          "base_uri": "https://localhost:8080/",
          "height": 50
        }
      },
      "source": [
        "# This means, we don't know how many rows we need. Numpy assigns the no. of rows as per the no. of cols.\n",
        "a.reshape(-1, 3)"
      ],
      "execution_count": 0,
      "outputs": [
        {
          "output_type": "execute_result",
          "data": {
            "text/plain": [
              "array([['Aseem', 'Spider', 'Iron'],\n",
              "       ['Savio', 'Parker', 'Man']], dtype='<U6')"
            ]
          },
          "metadata": {
            "tags": []
          },
          "execution_count": 29
        }
      ]
    },
    {
      "cell_type": "code",
      "metadata": {
        "id": "__csWBGDXsq6",
        "colab_type": "code",
        "outputId": "a79502cb-c6a7-487c-f8e4-fc89f9371617",
        "colab": {
          "base_uri": "https://localhost:8080/",
          "height": 67
        }
      },
      "source": [
        "a.reshape(3, -1)"
      ],
      "execution_count": 0,
      "outputs": [
        {
          "output_type": "execute_result",
          "data": {
            "text/plain": [
              "array([['Aseem', 'Spider'],\n",
              "       ['Iron', 'Savio'],\n",
              "       ['Parker', 'Man']], dtype='<U6')"
            ]
          },
          "metadata": {
            "tags": []
          },
          "execution_count": 30
        }
      ]
    },
    {
      "cell_type": "markdown",
      "metadata": {
        "id": "QjpfRBFdYVWq",
        "colab_type": "text"
      },
      "source": [
        "# Splitting Arrays Horizontally and vertically"
      ]
    },
    {
      "cell_type": "code",
      "metadata": {
        "id": "ea0qbMFRYZL8",
        "colab_type": "code",
        "outputId": "41ad8f47-4ae2-4b56-b7f1-1f4cf3364c21",
        "colab": {
          "base_uri": "https://localhost:8080/",
          "height": 34
        }
      },
      "source": [
        "a = np.array(np.arange(0, 10))\n",
        "a"
      ],
      "execution_count": 0,
      "outputs": [
        {
          "output_type": "execute_result",
          "data": {
            "text/plain": [
              "array([0, 1, 2, 3, 4, 5, 6, 7, 8, 9])"
            ]
          },
          "metadata": {
            "tags": []
          },
          "execution_count": 64
        }
      ]
    },
    {
      "cell_type": "code",
      "metadata": {
        "id": "GBTGYAfRZOVd",
        "colab_type": "code",
        "outputId": "50e7a4d8-e689-488e-859b-bd9d238c1add",
        "colab": {
          "base_uri": "https://localhost:8080/",
          "height": 34
        }
      },
      "source": [
        "np.split(a, 2)"
      ],
      "execution_count": 0,
      "outputs": [
        {
          "output_type": "execute_result",
          "data": {
            "text/plain": [
              "[array([0, 1, 2, 3, 4]), array([5, 6, 7, 8, 9])]"
            ]
          },
          "metadata": {
            "tags": []
          },
          "execution_count": 65
        }
      ]
    },
    {
      "cell_type": "code",
      "metadata": {
        "id": "hb9sRrLcZRUz",
        "colab_type": "code",
        "outputId": "2e0dbef3-799b-4406-d281-59e29417fc0a",
        "colab": {
          "base_uri": "https://localhost:8080/",
          "height": 34
        }
      },
      "source": [
        "np.split(a, 5)"
      ],
      "execution_count": 0,
      "outputs": [
        {
          "output_type": "execute_result",
          "data": {
            "text/plain": [
              "[array([0, 1]), array([2, 3]), array([4, 5]), array([6, 7]), array([8, 9])]"
            ]
          },
          "metadata": {
            "tags": []
          },
          "execution_count": 67
        }
      ]
    },
    {
      "cell_type": "code",
      "metadata": {
        "id": "atrQD3JBZVXR",
        "colab_type": "code",
        "outputId": "b8369bdb-292d-4965-9a5a-be3649199f30",
        "colab": {
          "base_uri": "https://localhost:8080/",
          "height": 34
        }
      },
      "source": [
        "# split the array at index 3 and index 6\n",
        "np.split(a, [3, 6])"
      ],
      "execution_count": 0,
      "outputs": [
        {
          "output_type": "execute_result",
          "data": {
            "text/plain": [
              "[array([0, 1, 2]), array([3, 4, 5]), array([6, 7, 8, 9])]"
            ]
          },
          "metadata": {
            "tags": []
          },
          "execution_count": 68
        }
      ]
    },
    {
      "cell_type": "code",
      "metadata": {
        "id": "1F_bqg8jZjUk",
        "colab_type": "code",
        "outputId": "6bdcf6d7-d5e3-4e09-ad0a-903d232cbdb3",
        "colab": {
          "base_uri": "https://localhost:8080/",
          "height": 101
        }
      },
      "source": [
        "b = np.array(np.arange(0, 10).reshape(5, 2))\n",
        "b"
      ],
      "execution_count": 0,
      "outputs": [
        {
          "output_type": "execute_result",
          "data": {
            "text/plain": [
              "array([[0, 1],\n",
              "       [2, 3],\n",
              "       [4, 5],\n",
              "       [6, 7],\n",
              "       [8, 9]])"
            ]
          },
          "metadata": {
            "tags": []
          },
          "execution_count": 69
        }
      ]
    },
    {
      "cell_type": "code",
      "metadata": {
        "id": "2q9Y79ZPZ8Iz",
        "colab_type": "code",
        "outputId": "cac7eb7e-06e4-4193-8ebd-1d3a0d173ff1",
        "colab": {
          "base_uri": "https://localhost:8080/",
          "height": 101
        }
      },
      "source": [
        "# horizontally split the arrays into 2 sections.\n",
        "c, d = np.hsplit(b, 2)\n",
        "c"
      ],
      "execution_count": 0,
      "outputs": [
        {
          "output_type": "execute_result",
          "data": {
            "text/plain": [
              "array([[0],\n",
              "       [2],\n",
              "       [4],\n",
              "       [6],\n",
              "       [8]])"
            ]
          },
          "metadata": {
            "tags": []
          },
          "execution_count": 71
        }
      ]
    },
    {
      "cell_type": "code",
      "metadata": {
        "id": "UaoXJEQGaEwk",
        "colab_type": "code",
        "outputId": "f0d78c3e-8096-42b6-c933-f7d616731f1b",
        "colab": {
          "base_uri": "https://localhost:8080/",
          "height": 101
        }
      },
      "source": [
        "d"
      ],
      "execution_count": 0,
      "outputs": [
        {
          "output_type": "execute_result",
          "data": {
            "text/plain": [
              "array([[1],\n",
              "       [3],\n",
              "       [5],\n",
              "       [7],\n",
              "       [9]])"
            ]
          },
          "metadata": {
            "tags": []
          },
          "execution_count": 72
        }
      ]
    },
    {
      "cell_type": "code",
      "metadata": {
        "id": "NYgBZAKyaF2K",
        "colab_type": "code",
        "outputId": "7fdcf595-6b71-480d-c700-eeda4e756d1e",
        "colab": {
          "base_uri": "https://localhost:8080/",
          "height": 84
        }
      },
      "source": [
        "# Split at row 2 -> 0,1 and 2, 3, 4\n",
        "np.vsplit(b, [2])"
      ],
      "execution_count": 0,
      "outputs": [
        {
          "output_type": "execute_result",
          "data": {
            "text/plain": [
              "[array([[0, 1],\n",
              "        [2, 3]]), array([[4, 5],\n",
              "        [6, 7],\n",
              "        [8, 9]])]"
            ]
          },
          "metadata": {
            "tags": []
          },
          "execution_count": 76
        }
      ]
    },
    {
      "cell_type": "markdown",
      "metadata": {
        "id": "VfwdgBxvd07S",
        "colab_type": "text"
      },
      "source": [
        "# Image Manipulation\n",
        "\n",
        "Any image, when programatically represented, is an n dimentional array.\n",
        "For a colored image, every pixel requires an RGB value to represent the color.\n",
        "Each of these R, G and B has an integer value assigned t it from 0 to 255. A Red pixel is represented like this (255, 0, 0). \n",
        "\n",
        "For grayscale images, we only need one value to represent a purticular pixel. It represents the intensity value of that purticular oixel - 0.0 - 1.0\n",
        "\n",
        "Images can be represented in a 3D matrix. 1st 2 dimentions represent the height and width. Third dimention represent the no. of channels in the image. For a colored image, 3 and a grayscale image, 1.\n",
        "\n",
        "For a 6x6 grayscale image, the shape of the array representation will be (6, 6, 1). For a 6x6 color image, the shape would be (6, 6, 3).\n",
        "\n",
        "Scipy is an open source library for scientific python works.\n",
        "\n",
        "\n",
        "\n"
      ]
    },
    {
      "cell_type": "code",
      "metadata": {
        "id": "dLWeBUntf5eD",
        "colab_type": "code",
        "colab": {}
      },
      "source": [
        "import numpy as np\n",
        "from scipy import ndimage\n",
        "from scipy import misc"
      ],
      "execution_count": 0,
      "outputs": []
    },
    {
      "cell_type": "code",
      "metadata": {
        "id": "euGUZb-WNZSH",
        "colab_type": "code",
        "outputId": "5b34f6a8-b3ab-400f-de1a-e2dde754fd09",
        "colab": {
          "base_uri": "https://localhost:8080/",
          "height": 34
        }
      },
      "source": [
        "# a colored racoon face\n",
        "f = misc.face()\n",
        "\n",
        "#768x1024 color image\n",
        "f.shape"
      ],
      "execution_count": 0,
      "outputs": [
        {
          "output_type": "execute_result",
          "data": {
            "text/plain": [
              "(768, 1024, 3)"
            ]
          },
          "metadata": {
            "tags": []
          },
          "execution_count": 5
        }
      ]
    },
    {
      "cell_type": "code",
      "metadata": {
        "id": "FCPlXmqtNon1",
        "colab_type": "code",
        "outputId": "a4e7c2ce-95c7-4f99-a3fb-c1c486dfa8ad",
        "colab": {
          "base_uri": "https://localhost:8080/",
          "height": 34
        }
      },
      "source": [
        "type(f)"
      ],
      "execution_count": 0,
      "outputs": [
        {
          "output_type": "execute_result",
          "data": {
            "text/plain": [
              "numpy.ndarray"
            ]
          },
          "metadata": {
            "tags": []
          },
          "execution_count": 6
        }
      ]
    },
    {
      "cell_type": "code",
      "metadata": {
        "id": "0eLLeuBcN0pu",
        "colab_type": "code",
        "outputId": "7c01fd88-865d-4875-8435-acf858fd35b2",
        "colab": {
          "base_uri": "https://localhost:8080/",
          "height": 840
        }
      },
      "source": [
        "# contents of the array\n",
        "f"
      ],
      "execution_count": 0,
      "outputs": [
        {
          "output_type": "execute_result",
          "data": {
            "text/plain": [
              "array([[[121, 112, 131],\n",
              "        [138, 129, 148],\n",
              "        [153, 144, 165],\n",
              "        ...,\n",
              "        [119, 126,  74],\n",
              "        [131, 136,  82],\n",
              "        [139, 144,  90]],\n",
              "\n",
              "       [[ 89,  82, 100],\n",
              "        [110, 103, 121],\n",
              "        [130, 122, 143],\n",
              "        ...,\n",
              "        [118, 125,  71],\n",
              "        [134, 141,  87],\n",
              "        [146, 153,  99]],\n",
              "\n",
              "       [[ 73,  66,  84],\n",
              "        [ 94,  87, 105],\n",
              "        [115, 108, 126],\n",
              "        ...,\n",
              "        [117, 126,  71],\n",
              "        [133, 142,  87],\n",
              "        [144, 153,  98]],\n",
              "\n",
              "       ...,\n",
              "\n",
              "       [[ 87, 106,  76],\n",
              "        [ 94, 110,  81],\n",
              "        [107, 124,  92],\n",
              "        ...,\n",
              "        [120, 158,  97],\n",
              "        [119, 157,  96],\n",
              "        [119, 158,  95]],\n",
              "\n",
              "       [[ 85, 101,  72],\n",
              "        [ 95, 111,  82],\n",
              "        [112, 127,  96],\n",
              "        ...,\n",
              "        [121, 157,  96],\n",
              "        [120, 156,  94],\n",
              "        [120, 156,  94]],\n",
              "\n",
              "       [[ 85, 101,  74],\n",
              "        [ 97, 113,  84],\n",
              "        [111, 126,  97],\n",
              "        ...,\n",
              "        [120, 156,  95],\n",
              "        [119, 155,  93],\n",
              "        [118, 154,  92]]], dtype=uint8)"
            ]
          },
          "metadata": {
            "tags": []
          },
          "execution_count": 7
        }
      ]
    },
    {
      "cell_type": "code",
      "metadata": {
        "id": "bO8V_yz2N6aP",
        "colab_type": "code",
        "outputId": "edb7b155-dcc9-4ed5-cb2d-c4a9e612b2d0",
        "colab": {
          "base_uri": "https://localhost:8080/",
          "height": 286
        }
      },
      "source": [
        "import matplotlib.pyplot as plt\n",
        "\n",
        "plt.imshow(f)"
      ],
      "execution_count": 0,
      "outputs": [
        {
          "output_type": "execute_result",
          "data": {
            "text/plain": [
              "<matplotlib.image.AxesImage at 0x7f0984cc4710>"
            ]
          },
          "metadata": {
            "tags": []
          },
          "execution_count": 10
        },
        {
          "output_type": "display_data",
          "data": {
            "image/png": "[encoded data removed]",
            "text/plain": [
              "<Figure size 432x288 with 1 Axes>"
            ]
          },
          "metadata": {
            "tags": []
          }
        }
      ]
    },
    {
      "cell_type": "code",
      "metadata": {
        "id": "X8wOeyqJOR_D",
        "colab_type": "code",
        "outputId": "75bd6e50-2c48-4942-cd68-685975856ab4",
        "colab": {
          "base_uri": "https://localhost:8080/",
          "height": 286
        }
      },
      "source": [
        "# since the image is represented as a numpy array, slicing = croping.\n",
        "\n",
        "a = f[300:, :500, :]\n",
        "plt.imshow(a)"
      ],
      "execution_count": 0,
      "outputs": [
        {
          "output_type": "execute_result",
          "data": {
            "text/plain": [
              "<matplotlib.image.AxesImage at 0x7f0980b8f940>"
            ]
          },
          "metadata": {
            "tags": []
          },
          "execution_count": 17
        },
        {
          "output_type": "display_data",
          "data": {
            "image/png": "[encoded data removed]",
            "text/plain": [
              "<Figure size 432x288 with 1 Axes>"
            ]
          },
          "metadata": {
            "tags": []
          }
        }
      ]
    },
    {
      "cell_type": "code",
      "metadata": {
        "id": "no7Af4idPEd9",
        "colab_type": "code",
        "outputId": "fe442dc8-60be-44a1-fc01-d20c4af1adbd",
        "colab": {
          "base_uri": "https://localhost:8080/",
          "height": 194
        }
      },
      "source": [
        "a1, a2 = np.vsplit(f, 2)\n",
        "plt.imshow(a1)"
      ],
      "execution_count": 0,
      "outputs": [
        {
          "output_type": "execute_result",
          "data": {
            "text/plain": [
              "<matplotlib.image.AxesImage at 0x7f0980b6f438>"
            ]
          },
          "metadata": {
            "tags": []
          },
          "execution_count": 19
        },
        {
          "output_type": "display_data",
          "data": {
            "image/png": "[encoded data removed]",
            "text/plain": [
              "<Figure size 432x288 with 1 Axes>"
            ]
          },
          "metadata": {
            "tags": []
          }
        }
      ]
    },
    {
      "cell_type": "code",
      "metadata": {
        "id": "gT0JMkHpPkKJ",
        "colab_type": "code",
        "outputId": "d6e54510-ed57-4c4a-90ca-020857bb887d",
        "colab": {
          "base_uri": "https://localhost:8080/",
          "height": 194
        }
      },
      "source": [
        "plt.imshow(a2)"
      ],
      "execution_count": 0,
      "outputs": [
        {
          "output_type": "execute_result",
          "data": {
            "text/plain": [
              "<matplotlib.image.AxesImage at 0x7f0980ac54a8>"
            ]
          },
          "metadata": {
            "tags": []
          },
          "execution_count": 20
        },
        {
          "output_type": "display_data",
          "data": {
            "image/png": "[encoded data removed]",
            "text/plain": [
              "<Figure size 432x288 with 1 Axes>"
            ]
          },
          "metadata": {
            "tags": []
          }
        }
      ]
    },
    {
      "cell_type": "markdown",
      "metadata": {
        "id": "WI0Qt8RtQORA",
        "colab_type": "text"
      },
      "source": [
        "# Shallow Copies using Views\n",
        "\n",
        "Any edit that we make to the shallow copy will also be reflected in the main array.\n",
        "Each view is a different object. This is evident from the id function.\n",
        "You can reshape a shallow copy/view. The parent remains unaffected."
      ]
    },
    {
      "cell_type": "code",
      "metadata": {
        "id": "JCDj7v9rPoJU",
        "colab_type": "code",
        "outputId": "a1b7b72e-0679-4b0d-af6a-90cf4080ee1c",
        "colab": {
          "base_uri": "https://localhost:8080/",
          "height": 50
        }
      },
      "source": [
        "fruits = np.array(['Apple', 'Orange', 'Banana', 'Mango', 'Peach', 'Butter Fruit'])\n",
        "\n",
        "basket1 = fruits.view()\n",
        "basket2 = fruits.view()\n",
        "basket1"
      ],
      "execution_count": 0,
      "outputs": [
        {
          "output_type": "execute_result",
          "data": {
            "text/plain": [
              "array(['Apple', 'Orange', 'Banana', 'Mango', 'Peach', 'Butter Fruit'],\n",
              "      dtype='<U12')"
            ]
          },
          "metadata": {
            "tags": []
          },
          "execution_count": 22
        }
      ]
    },
    {
      "cell_type": "code",
      "metadata": {
        "id": "zKnxjRQeQ4eV",
        "colab_type": "code",
        "outputId": "35e3b5ab-9aa3-471f-ccbf-98b09e4933c4",
        "colab": {
          "base_uri": "https://localhost:8080/",
          "height": 50
        }
      },
      "source": [
        "print(id(basket1))\n",
        "print(id(basket2))"
      ],
      "execution_count": 0,
      "outputs": [
        {
          "output_type": "stream",
          "text": [
            "139678790219536\n",
            "139678790219696\n"
          ],
          "name": "stdout"
        }
      ]
    },
    {
      "cell_type": "code",
      "metadata": {
        "id": "PIr84tB9ROBO",
        "colab_type": "code",
        "outputId": "7e93d6fa-6081-45ad-99db-e13ea97d1a53",
        "colab": {
          "base_uri": "https://localhost:8080/",
          "height": 34
        }
      },
      "source": [
        "# false because, they are different objects.\n",
        "basket1 is fruits"
      ],
      "execution_count": 0,
      "outputs": [
        {
          "output_type": "execute_result",
          "data": {
            "text/plain": [
              "False"
            ]
          },
          "metadata": {
            "tags": []
          },
          "execution_count": 30
        }
      ]
    },
    {
      "cell_type": "code",
      "metadata": {
        "id": "x1w9jPlbTGYR",
        "colab_type": "code",
        "outputId": "db1975a2-eb67-4596-ec06-148b213f040f",
        "colab": {
          "base_uri": "https://localhost:8080/",
          "height": 34
        }
      },
      "source": [
        "# derived from the fruits.\n",
        "basket1.base is fruits"
      ],
      "execution_count": 0,
      "outputs": [
        {
          "output_type": "execute_result",
          "data": {
            "text/plain": [
              "True"
            ]
          },
          "metadata": {
            "tags": []
          },
          "execution_count": 31
        }
      ]
    },
    {
      "cell_type": "code",
      "metadata": {
        "id": "J13We-TSRSx-",
        "colab_type": "code",
        "outputId": "4643364c-e5cf-4ca8-9ac9-9da8276fd359",
        "colab": {
          "base_uri": "https://localhost:8080/",
          "height": 67
        }
      },
      "source": [
        "# change is reflected everywhere.\n",
        "\n",
        "basket1[0] = 'Strawberry'\n",
        "print(basket1)\n",
        "print(basket2)\n",
        "print(fruits)\n"
      ],
      "execution_count": 0,
      "outputs": [
        {
          "output_type": "stream",
          "text": [
            "['Strawberry' 'Orange' 'Banana' 'Mango' 'Peach' 'Butter Fruit']\n",
            "['Strawberry' 'Orange' 'Banana' 'Mango' 'Peach' 'Butter Fruit']\n",
            "['Strawberry' 'Orange' 'Banana' 'Mango' 'Peach' 'Butter Fruit']\n"
          ],
          "name": "stdout"
        }
      ]
    },
    {
      "cell_type": "markdown",
      "metadata": {
        "id": "-ZgG2xSlSwtn",
        "colab_type": "text"
      },
      "source": [
        "# Deep Copies of Arrays\n",
        "\n",
        "Not efficient if the original array has thousands of elements. Shape change or any other change doesn't reflect in the original or fellow deep copies."
      ]
    },
    {
      "cell_type": "code",
      "metadata": {
        "id": "oXSsFdcKR8mI",
        "colab_type": "code",
        "outputId": "eeb35362-5ab3-48d3-e7e7-bd1c682ea7d5",
        "colab": {
          "base_uri": "https://localhost:8080/",
          "height": 34
        }
      },
      "source": [
        "fruits = np.array(['Apple', 'Butter Fruit', 'Mango', 'Jack Fruit'])\n",
        "\n",
        "a = fruits.copy() # deep copy\n",
        "a"
      ],
      "execution_count": 0,
      "outputs": [
        {
          "output_type": "execute_result",
          "data": {
            "text/plain": [
              "array(['Apple', 'Butter Fruit', 'Mango', 'Jack Fruit'], dtype='<U12')"
            ]
          },
          "metadata": {
            "tags": []
          },
          "execution_count": 33
        }
      ]
    },
    {
      "cell_type": "code",
      "metadata": {
        "id": "edXaeoqeTkJ9",
        "colab_type": "code",
        "outputId": "49161ba6-219a-4297-adf5-db1aa08bc5b5",
        "colab": {
          "base_uri": "https://localhost:8080/",
          "height": 34
        }
      },
      "source": [
        "a is fruits"
      ],
      "execution_count": 0,
      "outputs": [
        {
          "output_type": "execute_result",
          "data": {
            "text/plain": [
              "False"
            ]
          },
          "metadata": {
            "tags": []
          },
          "execution_count": 34
        }
      ]
    },
    {
      "cell_type": "code",
      "metadata": {
        "id": "eenYR8y9TnXC",
        "colab_type": "code",
        "outputId": "e6e85dcf-9380-4797-bf72-09437ce88cf9",
        "colab": {
          "base_uri": "https://localhost:8080/",
          "height": 34
        }
      },
      "source": [
        "# False as it is not derived from the original array.\n",
        "a.base is fruits"
      ],
      "execution_count": 0,
      "outputs": [
        {
          "output_type": "execute_result",
          "data": {
            "text/plain": [
              "False"
            ]
          },
          "metadata": {
            "tags": []
          },
          "execution_count": 35
        }
      ]
    },
    {
      "cell_type": "code",
      "metadata": {
        "id": "eKUCBtbETosg",
        "colab_type": "code",
        "outputId": "4b04b7d5-db57-47a1-b27b-d75baa0498d5",
        "colab": {
          "base_uri": "https://localhost:8080/",
          "height": 50
        }
      },
      "source": [
        "# Doesn't affect the original array.\n",
        "\n",
        "a[0] = 'Savio'\n",
        "print(a)\n",
        "print(fruits)"
      ],
      "execution_count": 0,
      "outputs": [
        {
          "output_type": "stream",
          "text": [
            "['Savio' 'Butter Fruit' 'Mango' 'Jack Fruit']\n",
            "['Apple' 'Butter Fruit' 'Mango' 'Jack Fruit']\n"
          ],
          "name": "stdout"
        }
      ]
    },
    {
      "cell_type": "markdown",
      "metadata": {
        "id": "Iit2MEYgVi6_",
        "colab_type": "text"
      },
      "source": [
        "# 2. Complex Indexing using NumPy\n",
        "\n",
        "## Indexing Arrays using Arrays\n",
        "\n",
        "Indexing is to access specific element in an array with the position.\n",
        "Numpy provides boolean conditions to access elements. A boolean array is created. With this created array, we can access elements of other arrays.\n",
        "BNumpy can also store and process structured data. This can be thought of as a precursor to Pandas' Dataframe. \n",
        "\n",
        "With Numpy's broadcasting, we can work with scalars and arrays and with mismatched arrays - provided, they match some broadcasting rules.\n",
        "\n",
        "# Indexing using arrays of indices\n"
      ]
    },
    {
      "cell_type": "code",
      "metadata": {
        "id": "8o3aPMP8ULSB",
        "colab_type": "code",
        "colab": {}
      },
      "source": [
        "import numpy as np\n",
        "import csv"
      ],
      "execution_count": 0,
      "outputs": []
    },
    {
      "cell_type": "code",
      "metadata": {
        "id": "NAA-_H8tVAIl",
        "colab_type": "code",
        "outputId": "e739b32a-7258-444c-b2ab-49ed111673db",
        "colab": {
          "base_uri": "https://localhost:8080/",
          "height": 34
        }
      },
      "source": [
        "a = np.arange(12)**2\n",
        "a"
      ],
      "execution_count": 0,
      "outputs": [
        {
          "output_type": "execute_result",
          "data": {
            "text/plain": [
              "array([  0,   1,   4,   9,  16,  25,  36,  49,  64,  81, 100, 121])"
            ]
          },
          "metadata": {
            "tags": []
          },
          "execution_count": 5
        }
      ]
    },
    {
      "cell_type": "code",
      "metadata": {
        "id": "OtZMIiVqWTie",
        "colab_type": "code",
        "outputId": "53c30466-5064-4acc-808c-57ef086e5cf0",
        "colab": {
          "base_uri": "https://localhost:8080/",
          "height": 34
        }
      },
      "source": [
        "a[2], a[5], a[7]"
      ],
      "execution_count": 0,
      "outputs": [
        {
          "output_type": "execute_result",
          "data": {
            "text/plain": [
              "(4, 25, 49)"
            ]
          },
          "metadata": {
            "tags": []
          },
          "execution_count": 6
        }
      ]
    },
    {
      "cell_type": "code",
      "metadata": {
        "id": "OKOBPhHWWLlk",
        "colab_type": "code",
        "outputId": "95e344f4-fa7a-491c-8046-d146f3473d43",
        "colab": {
          "base_uri": "https://localhost:8080/",
          "height": 34
        }
      },
      "source": [
        "# index using an array of indices.\n",
        "\n",
        "indices = [1, 2, 3]\n",
        "a[indices]"
      ],
      "execution_count": 0,
      "outputs": [
        {
          "output_type": "execute_result",
          "data": {
            "text/plain": [
              "array([1, 4, 9])"
            ]
          },
          "metadata": {
            "tags": []
          },
          "execution_count": 7
        }
      ]
    },
    {
      "cell_type": "code",
      "metadata": {
        "id": "6gPM376oXDrL",
        "colab_type": "code",
        "outputId": "7acc515a-5fc3-4ec5-8df8-db665e80ca89",
        "colab": {
          "base_uri": "https://localhost:8080/",
          "height": 50
        }
      },
      "source": [
        "# Index array is 2D and original array is 1D. This will return a 2D array\n",
        "\n",
        "indices2D = np.array([[1, 2], [3, 4]])\n",
        "indices2D"
      ],
      "execution_count": 0,
      "outputs": [
        {
          "output_type": "execute_result",
          "data": {
            "text/plain": [
              "array([[1, 2],\n",
              "       [3, 4]])"
            ]
          },
          "metadata": {
            "tags": []
          },
          "execution_count": 11
        }
      ]
    },
    {
      "cell_type": "code",
      "metadata": {
        "id": "h3tItIYxZCKe",
        "colab_type": "code",
        "outputId": "d02ea3ca-8420-4595-cda9-85e0adb78b55",
        "colab": {
          "base_uri": "https://localhost:8080/",
          "height": 50
        }
      },
      "source": [
        "# Note that a is an 1D array\n",
        "a[indices2D]"
      ],
      "execution_count": 0,
      "outputs": [
        {
          "output_type": "execute_result",
          "data": {
            "text/plain": [
              "array([[ 1,  4],\n",
              "       [ 9, 16]])"
            ]
          },
          "metadata": {
            "tags": []
          },
          "execution_count": 12
        }
      ]
    },
    {
      "cell_type": "code",
      "metadata": {
        "id": "6sfD8Kg_UHxi",
        "colab_type": "code",
        "outputId": "0c754ca2-d0f3-4369-e74b-73ef56758a96",
        "colab": {
          "base_uri": "https://localhost:8080/",
          "height": 67
        }
      },
      "source": [
        "food = np.array([['idly', 'dosa', 'pongal'],\n",
        "                ['vada', 'payaasam', 'uthaapam'],\n",
        "               ['puri', 'upma', 'samosa']])\n",
        "food"
      ],
      "execution_count": 0,
      "outputs": [
        {
          "output_type": "execute_result",
          "data": {
            "text/plain": [
              "array([['idly', 'dosa', 'pongal'],\n",
              "       ['vada', 'payaasam', 'uthaapam'],\n",
              "       ['puri', 'upma', 'samosa']], dtype='<U8')"
            ]
          },
          "metadata": {
            "tags": []
          },
          "execution_count": 13
        }
      ]
    },
    {
      "cell_type": "code",
      "metadata": {
        "id": "sRsNLzJlVsnM",
        "colab_type": "code",
        "outputId": "ede899ce-0686-41f3-ac94-d640e5fc3dc7",
        "colab": {
          "base_uri": "https://localhost:8080/",
          "height": 50
        }
      },
      "source": [
        "# ()row, col individually\n",
        "row = np.array([[0, 1], [1, 2]])\n",
        "col = np.array([[0, 1], [1, 2]])\n",
        "\n",
        "food[row, col]"
      ],
      "execution_count": 0,
      "outputs": [
        {
          "output_type": "execute_result",
          "data": {
            "text/plain": [
              "array([['idly', 'payaasam'],\n",
              "       ['payaasam', 'samosa']], dtype='<U8')"
            ]
          },
          "metadata": {
            "tags": []
          },
          "execution_count": 14
        }
      ]
    },
    {
      "cell_type": "code",
      "metadata": {
        "id": "VmfSQRmQUR70",
        "colab_type": "code",
        "outputId": "58247a27-d68b-4e48-bf8d-31321538327c",
        "colab": {
          "base_uri": "https://localhost:8080/",
          "height": 67
        }
      },
      "source": [
        "# altering\n",
        "\n",
        "food[row, col] = 'Savio'\n",
        "food"
      ],
      "execution_count": 0,
      "outputs": [
        {
          "output_type": "execute_result",
          "data": {
            "text/plain": [
              "array([['Savio', 'dosa', 'pongal'],\n",
              "       ['vada', 'Savio', 'uthaapam'],\n",
              "       ['puri', 'upma', 'Savio']], dtype='<U8')"
            ]
          },
          "metadata": {
            "tags": []
          },
          "execution_count": 16
        }
      ]
    },
    {
      "cell_type": "markdown",
      "metadata": {
        "id": "PcBIevYslWCm",
        "colab_type": "text"
      },
      "source": [
        "# Fancy Indexing"
      ]
    },
    {
      "cell_type": "code",
      "metadata": {
        "id": "OhivVNZmkZ8C",
        "colab_type": "code",
        "colab": {}
      },
      "source": [
        "import numpy as np\n",
        "import matplotlib.pyplot as plt"
      ],
      "execution_count": 0,
      "outputs": []
    },
    {
      "cell_type": "code",
      "metadata": {
        "id": "2WAK5N1VR3v-",
        "colab_type": "code",
        "outputId": "34604477-c593-4af5-e0c7-e8f936bf4314",
        "colab": {
          "base_uri": "https://localhost:8080/",
          "height": 2117
        }
      },
      "source": [
        "array = np.random.uniform(low=1, high=1000, size=500)\n",
        "array"
      ],
      "execution_count": 0,
      "outputs": [
        {
          "output_type": "execute_result",
          "data": {
            "text/plain": [
              "array([ 68.29315098, 100.25280967, 275.12006216, 167.23187976,\n",
              "       231.42716222, 644.71514593, 839.30184899, 656.96678746,\n",
              "        79.47605696, 124.65421067, 634.95333826,  80.03356561,\n",
              "       941.94779084, 645.96157661, 524.38326597,  38.28051488,\n",
              "       443.47157632, 869.75259749, 244.71311365, 425.81518802,\n",
              "       318.74081954, 860.07093671, 755.72558983, 229.1750501 ,\n",
              "       839.2716767 , 891.96034709, 965.26077503, 948.22406946,\n",
              "       172.3054049 , 600.6862626 , 506.76583112, 188.99056982,\n",
              "       641.25445947, 723.14628753, 409.86260048, 592.96553233,\n",
              "       863.25163909, 897.08190995, 243.97488737, 925.45463228,\n",
              "       621.45925982,  94.58103324, 483.94816899,  76.01260995,\n",
              "       116.67760803, 948.00629805, 351.03863092, 496.12690283,\n",
              "       578.00325683, 930.49426068, 906.39985489, 101.11843304,\n",
              "       744.72157932, 239.51373179, 242.97422503, 678.00901199,\n",
              "       337.45444654, 388.87848828, 332.41703454, 966.00610923,\n",
              "       456.12675922,  34.55460421, 239.84576625, 998.18799556,\n",
              "       923.48668839, 459.21687345, 449.5264612 , 933.94218433,\n",
              "        24.81482927, 410.50540905, 486.61129317, 791.44194947,\n",
              "       506.99015863, 965.83216188, 119.10462429, 905.33417783,\n",
              "       279.07324633, 863.90029116, 364.03359413, 967.05784147,\n",
              "       652.8929948 ,  95.98715259, 282.37808597, 825.37497208,\n",
              "       971.09017827, 608.07928173, 454.03634522,  61.79054851,\n",
              "       218.76644162,   8.90168485, 119.43848718, 751.66502707,\n",
              "       550.83593712, 261.18975196, 692.619518  , 127.66838603,\n",
              "       686.82965384, 720.91010063, 693.36607654, 362.12891759,\n",
              "       732.43304967, 918.88278447, 678.55003358, 496.62347278,\n",
              "       443.46404489, 344.34367251, 253.64273454, 102.10977627,\n",
              "       857.9240511 , 446.33323545, 561.45498676, 757.79378141,\n",
              "        11.17154343, 199.67270124,  47.93115866,  86.51580824,\n",
              "       255.82320109, 995.55957407, 406.84722948, 494.92337704,\n",
              "       699.74717303, 301.18883394, 865.20078463, 841.7299295 ,\n",
              "       507.92729927, 128.51898211, 149.17680256, 687.45287225,\n",
              "       734.073836  ,  69.21283466, 454.38340896, 386.82318796,\n",
              "       924.87733292, 173.82122541, 604.73831449, 143.20321593,\n",
              "       140.97103769, 738.8651514 , 158.42051056, 104.77658742,\n",
              "       777.76205503, 990.21779764, 572.33252731, 442.83942606,\n",
              "       925.99076259, 174.21923729,  42.81743253, 966.12412627,\n",
              "       842.96808123, 568.15079526, 288.88010619, 365.14622168,\n",
              "       956.60547203, 700.75965144, 845.63245482, 786.367782  ,\n",
              "       559.29154071, 544.43334099, 418.31951982, 471.70796964,\n",
              "       444.7157021 , 301.67977653, 361.02265517, 422.99854032,\n",
              "       192.59683818, 252.09786312, 966.82467348, 445.03163954,\n",
              "       197.36223892, 324.94810767, 719.93485217, 327.44289516,\n",
              "       648.01228233, 279.11130968, 505.97318052, 586.59182114,\n",
              "        81.32433494, 582.92165053, 272.12939127, 902.77512381,\n",
              "       501.69288367, 984.44343466, 839.95684558, 158.70781508,\n",
              "       803.94798887, 588.06231739, 739.39192748, 903.94590878,\n",
              "       145.65668057, 350.18019316, 235.37602   , 664.51814816,\n",
              "       602.05296522, 719.29343831, 270.9894655 ,  85.73343691,\n",
              "       327.77325011, 699.83640564, 552.52885089, 647.34280014,\n",
              "       836.9753809 , 283.47858743, 310.82306939, 339.37678954,\n",
              "       853.05647677, 910.27155213, 750.09162225, 292.00326416,\n",
              "       182.24494843, 125.27752873, 356.83442346, 381.00514238,\n",
              "       938.89426228, 949.30321427, 325.6441153 , 670.50835309,\n",
              "       480.94668431, 708.76797509, 659.53723682, 233.54837462,\n",
              "       629.52874638, 180.78580689, 904.35633196,  84.38044783,\n",
              "       668.68573208, 309.20250693, 900.52272297, 523.17811077,\n",
              "       273.28469822, 990.59619392, 964.40183824, 994.6870626 ,\n",
              "       984.38994614, 864.32841108, 585.28077191,  29.4376488 ,\n",
              "       415.7160094 , 230.94055839, 204.04359636,  19.39905444,\n",
              "       727.90933603, 405.00700864, 765.31841572, 791.36037795,\n",
              "       308.53500039, 754.34916916, 106.65084589,  87.40273307,\n",
              "       876.6960394 , 572.84769791, 747.82272812, 560.96043689,\n",
              "       245.83198096, 969.08262515, 963.78333622, 445.07414213,\n",
              "       495.02530149, 679.47379854, 481.54122812, 954.86533829,\n",
              "       238.97577073, 317.90254747, 131.80156285,  10.48945408,\n",
              "       432.63016222, 139.3002599 ,  38.30281333, 291.36778956,\n",
              "       188.87119284, 358.2750406 , 365.73582098,  91.73037387,\n",
              "       221.5015783 , 671.49064692, 123.87716403,  68.74284938,\n",
              "       542.6145096 , 340.46092424, 229.35960525, 592.40847362,\n",
              "       143.10375135, 325.54728563, 660.98507644, 246.69299113,\n",
              "       916.83374015, 352.3751635 , 986.04762899,  64.57245639,\n",
              "       987.77254034, 481.90763218, 304.75885007, 695.34306974,\n",
              "        77.56886569, 978.75581369, 962.50944345, 114.41651061,\n",
              "       276.04441702, 730.77288363, 884.13019844, 994.32169636,\n",
              "       580.69631127, 443.12451201, 419.0373427 , 830.49840748,\n",
              "       854.86409709, 699.66254603,  96.42419653, 650.10903314,\n",
              "        80.40777079, 754.73776776, 563.17881711, 580.23774049,\n",
              "       517.07594489, 276.23234778, 897.05195452, 485.28896145,\n",
              "       196.26740732, 294.2607961 , 937.32072148, 827.16669283,\n",
              "       745.18253183, 673.46654192,  91.77607572, 733.28683708,\n",
              "       418.88713174, 928.58814041, 168.80812123, 421.4622852 ,\n",
              "       546.80248751, 981.50468398, 700.90480306, 743.41156737,\n",
              "        40.2530161 ,  60.79778285, 104.33160053, 643.66673115,\n",
              "        69.79509337,  12.65237627, 707.99934151, 995.7540755 ,\n",
              "       605.16752943, 332.27258555, 121.6969531 , 575.48347807,\n",
              "       337.17916223, 795.45453493, 573.30644153, 615.98902389,\n",
              "       706.67060887,  27.99351414, 756.55885812, 863.85157907,\n",
              "       201.09799054, 347.74061739, 526.45741533,   6.23693443,\n",
              "       522.11688525, 212.03819622, 839.35534441, 970.61028988,\n",
              "       129.35831569, 113.78357262, 907.75305058,  10.18406519,\n",
              "       542.53067871, 264.17428425, 726.96889205, 484.67162111,\n",
              "       658.77655538, 137.87958626, 476.91723263, 904.97987062,\n",
              "       756.72686257, 289.16500435, 477.29932042, 667.60869663,\n",
              "       699.80181727, 342.88531831, 194.19437455,  32.84414142,\n",
              "       639.20402967, 603.70816031, 175.73294448, 882.28465883,\n",
              "       805.08409706, 718.85313028, 843.37118314, 436.29200972,\n",
              "       827.27509198, 466.00921425, 289.48874249, 531.08809937,\n",
              "       481.85765353,  30.00416658, 505.82971381, 778.44180753,\n",
              "       194.62247864, 694.60013055, 823.33026701, 998.44503253,\n",
              "       455.91470059, 145.64134338, 811.37711964, 727.14508946,\n",
              "       627.92951217, 825.6309542 , 782.86427963, 848.31664565,\n",
              "       769.45314596, 308.00056138, 612.8183981 , 638.47934518,\n",
              "       143.35680833,  57.83246918, 658.08292353, 407.26387057,\n",
              "        22.36578434, 760.09283964, 421.65977433, 730.04293112,\n",
              "       665.86502944, 192.78051786, 234.417338  , 424.8383593 ,\n",
              "       452.60921057, 830.56808264, 263.97935595,  37.5484992 ,\n",
              "       288.26981129,  28.16157605, 487.53179766, 780.5367426 ,\n",
              "       678.13855141, 107.03061609, 131.56801911, 903.68200696,\n",
              "       269.54603881, 712.32996448, 671.47900001, 364.55467237,\n",
              "       891.92037972, 322.13035066, 111.92627829, 432.99229287,\n",
              "       689.86827297, 851.993365  , 516.26443237, 278.33848286,\n",
              "       176.52658097,  54.85176846,  44.75010521, 175.99886868,\n",
              "       100.8436564 , 912.36803307, 138.16243924, 946.03535424,\n",
              "       328.52583625, 677.18046979, 191.80547813, 689.41832401,\n",
              "       493.20736085, 863.95845925, 165.83480933, 108.23977466,\n",
              "       604.00299005, 919.02617894, 112.47561292, 209.50685132,\n",
              "       690.57994391, 613.42265725, 605.72229938, 685.75196618,\n",
              "       245.59143692, 414.80208059, 453.9507816 ,  39.6804051 ,\n",
              "       346.35120434, 359.85655995, 516.46518687, 333.23508141,\n",
              "       284.1999134 , 959.68131427,  95.34224771, 750.74445124,\n",
              "       306.69850605, 534.88737969, 683.31430541, 670.85924719,\n",
              "       606.53723549, 542.78367847, 457.75945785, 965.39426975,\n",
              "       918.42920936, 605.40294084, 920.88707098, 630.90580107,\n",
              "       351.37584081, 926.40608684, 531.03751368, 820.56024054])"
            ]
          },
          "metadata": {
            "tags": []
          },
          "execution_count": 5
        }
      ]
    },
    {
      "cell_type": "code",
      "metadata": {
        "id": "gnkNV8XyRyY9",
        "colab_type": "code",
        "outputId": "6265680c-b6bc-4313-98e4-6b8fd69fffc1",
        "colab": {
          "base_uri": "https://localhost:8080/",
          "height": 34
        }
      },
      "source": [
        "array.shape"
      ],
      "execution_count": 0,
      "outputs": [
        {
          "output_type": "execute_result",
          "data": {
            "text/plain": [
              "(500,)"
            ]
          },
          "metadata": {
            "tags": []
          },
          "execution_count": 6
        }
      ]
    },
    {
      "cell_type": "code",
      "metadata": {
        "id": "EqpMUMj_R5V6",
        "colab_type": "code",
        "outputId": "1f3d1b6d-1583-4b5b-93b9-98b1635233e5",
        "colab": {
          "base_uri": "https://localhost:8080/",
          "height": 34
        }
      },
      "source": [
        "nanArray = np.array(np.random.randint(low=2, high=499, size=50))\n",
        "nanArray.shape"
      ],
      "execution_count": 0,
      "outputs": [
        {
          "output_type": "execute_result",
          "data": {
            "text/plain": [
              "(50,)"
            ]
          },
          "metadata": {
            "tags": []
          },
          "execution_count": 7
        }
      ]
    },
    {
      "cell_type": "code",
      "metadata": {
        "id": "wPh_RKtzRz1R",
        "colab_type": "code",
        "outputId": "377a47b5-bbf2-4ea4-9735-0aff8b384faa",
        "colab": {
          "base_uri": "https://localhost:8080/",
          "height": 2117
        }
      },
      "source": [
        "# adding nan purposefully.\n",
        "\n",
        "array[nanArray] = np.nan\n",
        "array"
      ],
      "execution_count": 0,
      "outputs": [
        {
          "output_type": "execute_result",
          "data": {
            "text/plain": [
              "array([ 68.29315098, 100.25280967, 275.12006216, 167.23187976,\n",
              "       231.42716222, 644.71514593, 839.30184899, 656.96678746,\n",
              "        79.47605696, 124.65421067, 634.95333826,  80.03356561,\n",
              "       941.94779084, 645.96157661, 524.38326597,          nan,\n",
              "       443.47157632, 869.75259749, 244.71311365, 425.81518802,\n",
              "       318.74081954, 860.07093671, 755.72558983, 229.1750501 ,\n",
              "       839.2716767 , 891.96034709, 965.26077503, 948.22406946,\n",
              "       172.3054049 , 600.6862626 ,          nan, 188.99056982,\n",
              "       641.25445947, 723.14628753, 409.86260048, 592.96553233,\n",
              "       863.25163909, 897.08190995, 243.97488737, 925.45463228,\n",
              "       621.45925982,  94.58103324,          nan,  76.01260995,\n",
              "       116.67760803, 948.00629805, 351.03863092,          nan,\n",
              "       578.00325683, 930.49426068, 906.39985489, 101.11843304,\n",
              "       744.72157932,          nan, 242.97422503, 678.00901199,\n",
              "       337.45444654, 388.87848828,          nan, 966.00610923,\n",
              "       456.12675922,  34.55460421,          nan, 998.18799556,\n",
              "       923.48668839, 459.21687345, 449.5264612 , 933.94218433,\n",
              "        24.81482927, 410.50540905, 486.61129317, 791.44194947,\n",
              "       506.99015863, 965.83216188, 119.10462429, 905.33417783,\n",
              "       279.07324633, 863.90029116,          nan, 967.05784147,\n",
              "       652.8929948 ,  95.98715259, 282.37808597, 825.37497208,\n",
              "       971.09017827,          nan, 454.03634522,          nan,\n",
              "       218.76644162,   8.90168485, 119.43848718, 751.66502707,\n",
              "                nan, 261.18975196, 692.619518  , 127.66838603,\n",
              "       686.82965384,          nan, 693.36607654, 362.12891759,\n",
              "                nan, 918.88278447, 678.55003358, 496.62347278,\n",
              "       443.46404489,          nan,          nan, 102.10977627,\n",
              "       857.9240511 , 446.33323545, 561.45498676, 757.79378141,\n",
              "        11.17154343,          nan,  47.93115866,  86.51580824,\n",
              "       255.82320109,          nan, 406.84722948, 494.92337704,\n",
              "       699.74717303, 301.18883394, 865.20078463, 841.7299295 ,\n",
              "       507.92729927, 128.51898211, 149.17680256, 687.45287225,\n",
              "       734.073836  ,  69.21283466, 454.38340896, 386.82318796,\n",
              "       924.87733292, 173.82122541, 604.73831449, 143.20321593,\n",
              "       140.97103769, 738.8651514 , 158.42051056, 104.77658742,\n",
              "       777.76205503, 990.21779764, 572.33252731, 442.83942606,\n",
              "       925.99076259, 174.21923729,  42.81743253, 966.12412627,\n",
              "       842.96808123, 568.15079526, 288.88010619, 365.14622168,\n",
              "       956.60547203, 700.75965144, 845.63245482, 786.367782  ,\n",
              "       559.29154071, 544.43334099, 418.31951982, 471.70796964,\n",
              "                nan, 301.67977653, 361.02265517, 422.99854032,\n",
              "       192.59683818, 252.09786312, 966.82467348, 445.03163954,\n",
              "       197.36223892, 324.94810767, 719.93485217, 327.44289516,\n",
              "                nan, 279.11130968, 505.97318052, 586.59182114,\n",
              "        81.32433494,          nan, 272.12939127, 902.77512381,\n",
              "       501.69288367, 984.44343466, 839.95684558, 158.70781508,\n",
              "       803.94798887, 588.06231739, 739.39192748, 903.94590878,\n",
              "                nan, 350.18019316, 235.37602   , 664.51814816,\n",
              "       602.05296522, 719.29343831, 270.9894655 ,          nan,\n",
              "       327.77325011, 699.83640564, 552.52885089, 647.34280014,\n",
              "       836.9753809 , 283.47858743, 310.82306939, 339.37678954,\n",
              "                nan, 910.27155213, 750.09162225,          nan,\n",
              "       182.24494843, 125.27752873, 356.83442346,          nan,\n",
              "       938.89426228, 949.30321427, 325.6441153 , 670.50835309,\n",
              "       480.94668431, 708.76797509, 659.53723682, 233.54837462,\n",
              "       629.52874638, 180.78580689,          nan,  84.38044783,\n",
              "       668.68573208, 309.20250693, 900.52272297, 523.17811077,\n",
              "                nan, 990.59619392, 964.40183824, 994.6870626 ,\n",
              "       984.38994614, 864.32841108, 585.28077191,  29.4376488 ,\n",
              "       415.7160094 , 230.94055839,          nan,  19.39905444,\n",
              "       727.90933603, 405.00700864,          nan, 791.36037795,\n",
              "       308.53500039, 754.34916916, 106.65084589,  87.40273307,\n",
              "       876.6960394 , 572.84769791, 747.82272812,          nan,\n",
              "       245.83198096, 969.08262515, 963.78333622, 445.07414213,\n",
              "       495.02530149, 679.47379854, 481.54122812, 954.86533829,\n",
              "       238.97577073, 317.90254747, 131.80156285,  10.48945408,\n",
              "                nan, 139.3002599 ,          nan, 291.36778956,\n",
              "       188.87119284, 358.2750406 , 365.73582098,  91.73037387,\n",
              "       221.5015783 , 671.49064692, 123.87716403,  68.74284938,\n",
              "                nan, 340.46092424, 229.35960525, 592.40847362,\n",
              "       143.10375135, 325.54728563, 660.98507644, 246.69299113,\n",
              "       916.83374015, 352.3751635 , 986.04762899,  64.57245639,\n",
              "                nan, 481.90763218, 304.75885007, 695.34306974,\n",
              "        77.56886569, 978.75581369, 962.50944345, 114.41651061,\n",
              "       276.04441702, 730.77288363,          nan, 994.32169636,\n",
              "       580.69631127, 443.12451201, 419.0373427 , 830.49840748,\n",
              "       854.86409709, 699.66254603,  96.42419653, 650.10903314,\n",
              "                nan, 754.73776776, 563.17881711, 580.23774049,\n",
              "       517.07594489, 276.23234778, 897.05195452, 485.28896145,\n",
              "       196.26740732, 294.2607961 , 937.32072148, 827.16669283,\n",
              "       745.18253183,          nan,  91.77607572, 733.28683708,\n",
              "       418.88713174, 928.58814041, 168.80812123, 421.4622852 ,\n",
              "       546.80248751, 981.50468398, 700.90480306, 743.41156737,\n",
              "        40.2530161 ,  60.79778285, 104.33160053, 643.66673115,\n",
              "                nan,  12.65237627, 707.99934151,          nan,\n",
              "                nan, 332.27258555, 121.6969531 , 575.48347807,\n",
              "       337.17916223, 795.45453493, 573.30644153, 615.98902389,\n",
              "       706.67060887,  27.99351414, 756.55885812, 863.85157907,\n",
              "                nan, 347.74061739, 526.45741533,   6.23693443,\n",
              "       522.11688525, 212.03819622, 839.35534441, 970.61028988,\n",
              "       129.35831569, 113.78357262, 907.75305058,  10.18406519,\n",
              "       542.53067871, 264.17428425, 726.96889205,          nan,\n",
              "       658.77655538, 137.87958626, 476.91723263, 904.97987062,\n",
              "       756.72686257, 289.16500435, 477.29932042, 667.60869663,\n",
              "       699.80181727, 342.88531831, 194.19437455,  32.84414142,\n",
              "       639.20402967, 603.70816031, 175.73294448,          nan,\n",
              "       805.08409706, 718.85313028, 843.37118314, 436.29200972,\n",
              "       827.27509198, 466.00921425, 289.48874249, 531.08809937,\n",
              "       481.85765353,  30.00416658, 505.82971381, 778.44180753,\n",
              "       194.62247864, 694.60013055, 823.33026701, 998.44503253,\n",
              "                nan, 145.64134338, 811.37711964, 727.14508946,\n",
              "       627.92951217, 825.6309542 , 782.86427963, 848.31664565,\n",
              "       769.45314596, 308.00056138, 612.8183981 , 638.47934518,\n",
              "       143.35680833,  57.83246918, 658.08292353, 407.26387057,\n",
              "        22.36578434, 760.09283964, 421.65977433, 730.04293112,\n",
              "       665.86502944, 192.78051786, 234.417338  , 424.8383593 ,\n",
              "       452.60921057, 830.56808264, 263.97935595,  37.5484992 ,\n",
              "       288.26981129,  28.16157605, 487.53179766, 780.5367426 ,\n",
              "       678.13855141, 107.03061609, 131.56801911, 903.68200696,\n",
              "       269.54603881, 712.32996448, 671.47900001, 364.55467237,\n",
              "       891.92037972, 322.13035066, 111.92627829, 432.99229287,\n",
              "       689.86827297, 851.993365  , 516.26443237, 278.33848286,\n",
              "       176.52658097,  54.85176846,  44.75010521, 175.99886868,\n",
              "       100.8436564 , 912.36803307, 138.16243924,          nan,\n",
              "       328.52583625, 677.18046979, 191.80547813, 689.41832401,\n",
              "       493.20736085, 863.95845925, 165.83480933, 108.23977466,\n",
              "       604.00299005, 919.02617894, 112.47561292, 209.50685132,\n",
              "       690.57994391, 613.42265725, 605.72229938, 685.75196618,\n",
              "       245.59143692, 414.80208059,          nan,  39.6804051 ,\n",
              "       346.35120434,          nan, 516.46518687, 333.23508141,\n",
              "       284.1999134 , 959.68131427,  95.34224771, 750.74445124,\n",
              "       306.69850605, 534.88737969, 683.31430541, 670.85924719,\n",
              "       606.53723549, 542.78367847, 457.75945785, 965.39426975,\n",
              "       918.42920936, 605.40294084, 920.88707098, 630.90580107,\n",
              "       351.37584081, 926.40608684, 531.03751368, 820.56024054])"
            ]
          },
          "metadata": {
            "tags": []
          },
          "execution_count": 8
        }
      ]
    },
    {
      "cell_type": "code",
      "metadata": {
        "id": "_G8yspCURcbe",
        "colab_type": "code",
        "outputId": "9b4bb57a-4dd9-4817-f7f4-52f31d47986b",
        "colab": {
          "base_uri": "https://localhost:8080/",
          "height": 34
        }
      },
      "source": [
        "array.shape"
      ],
      "execution_count": 0,
      "outputs": [
        {
          "output_type": "execute_result",
          "data": {
            "text/plain": [
              "(500,)"
            ]
          },
          "metadata": {
            "tags": []
          },
          "execution_count": 9
        }
      ]
    },
    {
      "cell_type": "code",
      "metadata": {
        "id": "KjQewM1_Qzo_",
        "colab_type": "code",
        "outputId": "ec39c3ea-2a69-4cc7-faa1-9dfebaaa861a",
        "colab": {
          "base_uri": "https://localhost:8080/",
          "height": 34
        }
      },
      "source": [
        "# Now, to remove the NaNs using Fancy Indexing:\n",
        "\n",
        "array = array[~np.isnan(array)]\n",
        "array.shape\n",
        "\n",
        "# Note that the 50 NaN elements have been removed."
      ],
      "execution_count": 0,
      "outputs": [
        {
          "output_type": "execute_result",
          "data": {
            "text/plain": [
              "(453,)"
            ]
          },
          "metadata": {
            "tags": []
          },
          "execution_count": 10
        }
      ]
    },
    {
      "cell_type": "code",
      "metadata": {
        "id": "I0anv3QhPecU",
        "colab_type": "code",
        "outputId": "ec4261cc-3dc7-4dc0-de7b-fa616f73a074",
        "colab": {
          "base_uri": "https://localhost:8080/",
          "height": 34
        }
      },
      "source": [
        "# Filtering with boolean conditions\n",
        "\n",
        "array = array[array > 500]\n",
        "array.shape"
      ],
      "execution_count": 0,
      "outputs": [
        {
          "output_type": "execute_result",
          "data": {
            "text/plain": [
              "(229,)"
            ]
          },
          "metadata": {
            "tags": []
          },
          "execution_count": 11
        }
      ]
    },
    {
      "cell_type": "code",
      "metadata": {
        "id": "4Q2QyTi7O_sV",
        "colab_type": "code",
        "outputId": "089259d6-734b-452d-e3d1-e4c5f7b23a25",
        "colab": {
          "base_uri": "https://localhost:8080/",
          "height": 34
        }
      },
      "source": [
        "np.count_nonzero(array[array > 550])"
      ],
      "execution_count": 0,
      "outputs": [
        {
          "output_type": "execute_result",
          "data": {
            "text/plain": [
              "210"
            ]
          },
          "metadata": {
            "tags": []
          },
          "execution_count": 12
        }
      ]
    },
    {
      "cell_type": "code",
      "metadata": {
        "id": "9iuvtI_UO5-x",
        "colab_type": "code",
        "outputId": "ef03ed39-6a99-4cc8-8a1a-8689b29b1f85",
        "colab": {
          "base_uri": "https://localhost:8080/",
          "height": 67
        }
      },
      "source": [
        "# sort and display only the first 10 elements\n",
        "np.sort(array)[0: 10]"
      ],
      "execution_count": 0,
      "outputs": [
        {
          "output_type": "execute_result",
          "data": {
            "text/plain": [
              "array([501.69288367, 505.82971381, 505.97318052, 506.99015863,\n",
              "       507.92729927, 516.26443237, 516.46518687, 517.07594489,\n",
              "       522.11688525, 523.17811077])"
            ]
          },
          "metadata": {
            "tags": []
          },
          "execution_count": 13
        }
      ]
    },
    {
      "cell_type": "markdown",
      "metadata": {
        "id": "j6xv0p9zuKvF",
        "colab_type": "text"
      },
      "source": [
        "# Indexing with Boolean Arrays"
      ]
    },
    {
      "cell_type": "code",
      "metadata": {
        "id": "rvk_YkxnOnVq",
        "colab_type": "code",
        "outputId": "e59d9042-72f9-4df5-cc8b-e8f25c15fe7d",
        "colab": {
          "base_uri": "https://localhost:8080/",
          "height": 84
        }
      },
      "source": [
        "  import numpy as np\n",
        "  a = np.arange(16).reshape(4, 4)\n",
        "  a"
      ],
      "execution_count": 0,
      "outputs": [
        {
          "output_type": "execute_result",
          "data": {
            "text/plain": [
              "array([[ 0,  1,  2,  3],\n",
              "       [ 4,  5,  6,  7],\n",
              "       [ 8,  9, 10, 11],\n",
              "       [12, 13, 14, 15]])"
            ]
          },
          "metadata": {
            "tags": []
          },
          "execution_count": 2
        }
      ]
    },
    {
      "cell_type": "code",
      "metadata": {
        "id": "zvruefmBOl-Y",
        "colab_type": "code",
        "outputId": "6c1654b1-744f-4070-a704-b56d7aa53b2d",
        "colab": {
          "base_uri": "https://localhost:8080/",
          "height": 84
        }
      },
      "source": [
        "boolArray = a > 10\n",
        "boolArray"
      ],
      "execution_count": 0,
      "outputs": [
        {
          "output_type": "execute_result",
          "data": {
            "text/plain": [
              "array([[False, False, False, False],\n",
              "       [False, False, False, False],\n",
              "       [False, False, False,  True],\n",
              "       [ True,  True,  True,  True]])"
            ]
          },
          "metadata": {
            "tags": []
          },
          "execution_count": 4
        }
      ]
    },
    {
      "cell_type": "code",
      "metadata": {
        "id": "4Ot9mdGOOjIi",
        "colab_type": "code",
        "outputId": "1a31347b-3249-4efe-9fc1-b9b5386557fa",
        "colab": {
          "base_uri": "https://localhost:8080/",
          "height": 34
        }
      },
      "source": [
        "a[boolArray]"
      ],
      "execution_count": 0,
      "outputs": [
        {
          "output_type": "execute_result",
          "data": {
            "text/plain": [
              "array([11, 12, 13, 14, 15])"
            ]
          },
          "metadata": {
            "tags": []
          },
          "execution_count": 15
        }
      ]
    },
    {
      "cell_type": "code",
      "metadata": {
        "id": "4_HslcTVOfzz",
        "colab_type": "code",
        "outputId": "17fd3c2e-a7d6-42f0-d158-04dec6f15a89",
        "colab": {
          "base_uri": "https://localhost:8080/",
          "height": 34
        }
      },
      "source": [
        "np.sum(a > 10)"
      ],
      "execution_count": 0,
      "outputs": [
        {
          "output_type": "execute_result",
          "data": {
            "text/plain": [
              "5"
            ]
          },
          "metadata": {
            "tags": []
          },
          "execution_count": 16
        }
      ]
    },
    {
      "cell_type": "code",
      "metadata": {
        "id": "YFJxeyoDOcFb",
        "colab_type": "code",
        "outputId": "9eddc0eb-f4d7-46a6-cdc8-071de9a867c5",
        "colab": {
          "base_uri": "https://localhost:8080/",
          "height": 34
        }
      },
      "source": [
        "# row wise\n",
        "np.sum(a > 10, axis = 1)"
      ],
      "execution_count": 0,
      "outputs": [
        {
          "output_type": "execute_result",
          "data": {
            "text/plain": [
              "array([0, 0, 1, 4])"
            ]
          },
          "metadata": {
            "tags": []
          },
          "execution_count": 17
        }
      ]
    },
    {
      "cell_type": "code",
      "metadata": {
        "id": "deR8AYm2OPwq",
        "colab_type": "code",
        "outputId": "c166bb48-ea62-4b56-9477-933243f53675",
        "colab": {
          "base_uri": "https://localhost:8080/",
          "height": 34
        }
      },
      "source": [
        "np.any(a > 5)"
      ],
      "execution_count": 0,
      "outputs": [
        {
          "output_type": "execute_result",
          "data": {
            "text/plain": [
              "True"
            ]
          },
          "metadata": {
            "tags": []
          },
          "execution_count": 18
        }
      ]
    },
    {
      "cell_type": "code",
      "metadata": {
        "id": "fJ0Whji1OKoh",
        "colab_type": "code",
        "outputId": "ce81834f-b6e2-4cb9-e4e2-301433db720b",
        "colab": {
          "base_uri": "https://localhost:8080/",
          "height": 34
        }
      },
      "source": [
        "np.all(a > 5)"
      ],
      "execution_count": 0,
      "outputs": [
        {
          "output_type": "execute_result",
          "data": {
            "text/plain": [
              "False"
            ]
          },
          "metadata": {
            "tags": []
          },
          "execution_count": 19
        }
      ]
    },
    {
      "cell_type": "code",
      "metadata": {
        "id": "3Qaz7_jaNnIV",
        "colab_type": "code",
        "outputId": "dac6a3a4-be3b-4219-9c27-7518f3f4046d",
        "colab": {
          "base_uri": "https://localhost:8080/",
          "height": 34
        }
      },
      "source": [
        "np.all(a > 5, axis = 1)"
      ],
      "execution_count": 0,
      "outputs": [
        {
          "output_type": "execute_result",
          "data": {
            "text/plain": [
              "array([False, False,  True,  True])"
            ]
          },
          "metadata": {
            "tags": []
          },
          "execution_count": 20
        }
      ]
    },
    {
      "cell_type": "markdown",
      "metadata": {
        "id": "zuFumm_ll4Pz",
        "colab_type": "text"
      },
      "source": [
        "# Arrays with Structured Data\n",
        "\n",
        "Normally, we use NumPy for very large numerical data. But, it can also be used for processing structured data."
      ]
    },
    {
      "cell_type": "code",
      "metadata": {
        "id": "w9Q3X0sqNP5j",
        "colab_type": "code",
        "colab": {}
      },
      "source": [
        "import numpy as np\n",
        "\n",
        "name = ['Aseem', 'Savio', 'Antigravity']\n",
        "studentId = [1, 2, 3]\n",
        "score = [90.5, 98.6, 99.1]"
      ],
      "execution_count": 0,
      "outputs": []
    },
    {
      "cell_type": "code",
      "metadata": {
        "id": "io4XyamvNNJi",
        "colab_type": "code",
        "colab": {}
      },
      "source": [
        "# The following are three different arrays. We're creating an array that will accomodate the three as follows.\n",
        "\n",
        "studentData = np.zeros(3, dtype = {\n",
        "    'names':('name', 'studentId', 'score'),\n",
        "    'formats': ('U10', 'i4', 'f8')\n",
        "})\n",
        "\n",
        "# 3 data with name - string, studentId - int and score - float"
      ],
      "execution_count": 0,
      "outputs": []
    },
    {
      "cell_type": "code",
      "metadata": {
        "id": "gS539d4gcymC",
        "colab_type": "code",
        "outputId": "39a68618-ac97-4c60-8a84-3a2aa5d2c597",
        "colab": {
          "base_uri": "https://localhost:8080/",
          "height": 50
        }
      },
      "source": [
        "studentData"
      ],
      "execution_count": 0,
      "outputs": [
        {
          "output_type": "execute_result",
          "data": {
            "text/plain": [
              "array([('', 0, 0.), ('', 0, 0.), ('', 0, 0.)],\n",
              "      dtype=[('name', '<U10'), ('studentId', '<i4'), ('score', '<f8')])"
            ]
          },
          "metadata": {
            "tags": []
          },
          "execution_count": 43
        }
      ]
    },
    {
      "cell_type": "code",
      "metadata": {
        "id": "e8FMREtRclDD",
        "colab_type": "code",
        "outputId": "1990b53e-3ad5-4aa2-df2a-c73607eebce7",
        "colab": {
          "base_uri": "https://localhost:8080/",
          "height": 50
        }
      },
      "source": [
        "studentData['name'] = name\n",
        "studentData['studentId'] = studentId\n",
        "studentData['score'] = score\n",
        "\n",
        "studentData"
      ],
      "execution_count": 0,
      "outputs": [
        {
          "output_type": "execute_result",
          "data": {
            "text/plain": [
              "array([('Aseem', 1, 90.5), ('Savio', 2, 98.6), ('Antigravit', 3, 99.1)],\n",
              "      dtype=[('name', '<U10'), ('studentId', '<i4'), ('score', '<f8')])"
            ]
          },
          "metadata": {
            "tags": []
          },
          "execution_count": 44
        }
      ]
    },
    {
      "cell_type": "markdown",
      "metadata": {
        "id": "drduEpRgu38U",
        "colab_type": "text"
      },
      "source": [
        "# Broadcasting\n",
        "\n",
        "To work with arrays of mismatched shapes.\n",
        "\n",
        "Definition: Defines how NumPy treats arrays with different shapes during arithmatic operations (performed element wise). Subject to certain constraints, the smaler array is 'broadcast' across the arger array so that they have compatible shapes.\n",
        "\n",
        "### Broadcasting with scalars\n",
        "\n",
        "Earier, we've broadcast scalars. We can always do that like the one below.\n",
        "\n",
        "a = [1, 2, 3, 4, 5]\n",
        "\n",
        "b = 2\n",
        "\n",
        "In a * b, the scalar b is broadcast over the array a. The scalar 2 is replicated to match the shape of the array a.\n",
        "This applies to multi dimentional arrays with scalars as well.\n",
        "\n",
        "Scalars are the easiest to broadcast. We'll never get errors while broadcasting.\n",
        "\n",
        "### Broadcasting with Vectors / Arrays\n",
        "\n",
        "Can only broadcast the smaller array over the larger one only if their shapes match or if tehy are compatible in some ways.\n",
        "\n",
        "eg: (3, 6) is compatible with (3, 1).\n",
        "We broadcast teh smalelr array by replicating the last dimention of the smaller array to match that of the larger array. Once the shapes match, we can perform element wise operations. \n",
        "\n",
        "(3, 6) and (3, 2) gives a broadcast error as we can't do element wise operations.\n",
        "\n",
        "Broadcasting Rule:  If all the dimentions are exactly the same and the trailing dimention is one, the smaller array can be streatched over the larger array.\n",
        "\n",
        "In broadcasting, NO actual copies of the small array is made. That's why it is computationally (looping operation are in C) and memory efficient (needless copies are avoided).\n",
        "\n",
        "\n",
        "\n",
        "\n"
      ]
    },
    {
      "cell_type": "code",
      "metadata": {
        "id": "hXk-ODjmchCQ",
        "colab_type": "code",
        "colab": {}
      },
      "source": [
        "a = np.array([1, 2, 3, 4, 5])\n",
        "b = np.array([6, 7, 8, 9, 10])"
      ],
      "execution_count": 0,
      "outputs": []
    },
    {
      "cell_type": "code",
      "metadata": {
        "id": "wO-aEZI1cb36",
        "colab_type": "code",
        "outputId": "c5161a1e-e5c8-4e2a-9ef1-65353e6bd30a",
        "colab": {
          "base_uri": "https://localhost:8080/",
          "height": 50
        }
      },
      "source": [
        "# Allowed broadcasting\n",
        "\n",
        "print(a * b)\n",
        "print(a * 10)"
      ],
      "execution_count": 49,
      "outputs": [
        {
          "output_type": "stream",
          "text": [
            "[ 6 14 24 36 50]\n",
            "[10 20 30 40 50]\n"
          ],
          "name": "stdout"
        }
      ]
    },
    {
      "cell_type": "code",
      "metadata": {
        "id": "tcWFxQ5qaBph",
        "colab_type": "code",
        "colab": {
          "base_uri": "https://localhost:8080/",
          "height": 84
        },
        "outputId": "a1170037-2c89-4c60-a6e4-e9ef14da8e28"
      },
      "source": [
        "a = np.array(np.random.uniform(size = 16)).reshape(4, 4)\n",
        "a"
      ],
      "execution_count": 53,
      "outputs": [
        {
          "output_type": "execute_result",
          "data": {
            "text/plain": [
              "array([[0.03382321, 0.5157445 , 0.43911045, 0.55960894],\n",
              "       [0.46503668, 0.35364792, 0.90287138, 0.4255946 ],\n",
              "       [0.80841977, 0.35886843, 0.88181927, 0.05680926],\n",
              "       [0.79782565, 0.01406154, 0.64952304, 0.35133651]])"
            ]
          },
          "metadata": {
            "tags": []
          },
          "execution_count": 53
        }
      ]
    },
    {
      "cell_type": "code",
      "metadata": {
        "id": "HGqB5OsKZSYA",
        "colab_type": "code",
        "colab": {
          "base_uri": "https://localhost:8080/",
          "height": 84
        },
        "outputId": "70f25ca7-a72e-4dee-8817-24e42160c746"
      },
      "source": [
        "b = np.array(np.random.uniform(size = 4)).reshape(4, 1)\n",
        "b"
      ],
      "execution_count": 54,
      "outputs": [
        {
          "output_type": "execute_result",
          "data": {
            "text/plain": [
              "array([[0.07210404],\n",
              "       [0.66313994],\n",
              "       [0.03933612],\n",
              "       [0.62319613]])"
            ]
          },
          "metadata": {
            "tags": []
          },
          "execution_count": 54
        }
      ]
    },
    {
      "cell_type": "code",
      "metadata": {
        "id": "4WES1XszYxB6",
        "colab_type": "code",
        "colab": {
          "base_uri": "https://localhost:8080/",
          "height": 84
        },
        "outputId": "e52ea7d7-b23e-4bbd-94b5-f174dfefb316"
      },
      "source": [
        "# (4, 4) is compatible with (4, 1). Broadcasting works here.\n",
        "a * b"
      ],
      "execution_count": 55,
      "outputs": [
        {
          "output_type": "execute_result",
          "data": {
            "text/plain": [
              "array([[0.00243879, 0.03718726, 0.03166164, 0.04035006],\n",
              "       [0.3083844 , 0.23451806, 0.59873008, 0.28222878],\n",
              "       [0.0318001 , 0.01411649, 0.03468735, 0.00223466],\n",
              "       [0.49720185, 0.0087631 , 0.40478024, 0.21895155]])"
            ]
          },
          "metadata": {
            "tags": []
          },
          "execution_count": 55
        }
      ]
    },
    {
      "cell_type": "markdown",
      "metadata": {
        "id": "hAMqk0mQGzAC",
        "colab_type": "text"
      },
      "source": [
        "# Automatic Array Reshaping \n",
        "\n",
        "This can be done with the -1 in the element you're not sure. NumPy automatically assigns the correct value."
      ]
    },
    {
      "cell_type": "code",
      "metadata": {
        "id": "Ei0nDZ3NZHEt",
        "colab_type": "code",
        "colab": {
          "base_uri": "https://localhost:8080/",
          "height": 50
        },
        "outputId": "8d1e8c45-2f6d-42c9-9374-ea271f19e7ac"
      },
      "source": [
        "a = np.arange(30)\n",
        "a"
      ],
      "execution_count": 59,
      "outputs": [
        {
          "output_type": "execute_result",
          "data": {
            "text/plain": [
              "array([ 0,  1,  2,  3,  4,  5,  6,  7,  8,  9, 10, 11, 12, 13, 14, 15, 16,\n",
              "       17, 18, 19, 20, 21, 22, 23, 24, 25, 26, 27, 28, 29])"
            ]
          },
          "metadata": {
            "tags": []
          },
          "execution_count": 59
        }
      ]
    },
    {
      "cell_type": "code",
      "metadata": {
        "id": "XcvC8iAvZDq5",
        "colab_type": "code",
        "colab": {
          "base_uri": "https://localhost:8080/",
          "height": 34
        },
        "outputId": "db01fcfd-4f4a-4c84-93eb-3cbd70d8cfe0"
      },
      "source": [
        "a.shape = 5, -1, 2\n",
        "a.shape"
      ],
      "execution_count": 60,
      "outputs": [
        {
          "output_type": "execute_result",
          "data": {
            "text/plain": [
              "(5, 3, 2)"
            ]
          },
          "metadata": {
            "tags": []
          },
          "execution_count": 60
        }
      ]
    },
    {
      "cell_type": "code",
      "metadata": {
        "id": "1sf0qkMIY8NS",
        "colab_type": "code",
        "colab": {
          "base_uri": "https://localhost:8080/",
          "height": 336
        },
        "outputId": "46da4c34-b33e-40a7-9032-c7a6d560f3e5"
      },
      "source": [
        "a"
      ],
      "execution_count": 61,
      "outputs": [
        {
          "output_type": "execute_result",
          "data": {
            "text/plain": [
              "array([[[ 0,  1],\n",
              "        [ 2,  3],\n",
              "        [ 4,  5]],\n",
              "\n",
              "       [[ 6,  7],\n",
              "        [ 8,  9],\n",
              "        [10, 11]],\n",
              "\n",
              "       [[12, 13],\n",
              "        [14, 15],\n",
              "        [16, 17]],\n",
              "\n",
              "       [[18, 19],\n",
              "        [20, 21],\n",
              "        [22, 23]],\n",
              "\n",
              "       [[24, 25],\n",
              "        [26, 27],\n",
              "        [28, 29]]])"
            ]
          },
          "metadata": {
            "tags": []
          },
          "execution_count": 61
        }
      ]
    },
    {
      "cell_type": "code",
      "metadata": {
        "id": "OZeqqZu3YvED",
        "colab_type": "code",
        "colab": {
          "base_uri": "https://localhost:8080/",
          "height": 84
        },
        "outputId": "359d9ef9-29c1-405f-b2ec-d909251fe314"
      },
      "source": [
        "  a = np.array([['India', 'China'], ['Delhi', 'Beijing']])\n",
        "  b = np.array([['Britain', 'America'], ['London', 'Washington']])\n",
        "  print(a)\n",
        "  print(b)"
      ],
      "execution_count": 65,
      "outputs": [
        {
          "output_type": "stream",
          "text": [
            "[['India' 'China']\n",
            " ['Delhi' 'Beijing']]\n",
            "[['Britain' 'America']\n",
            " ['London' 'Washington']]\n"
          ],
          "name": "stdout"
        }
      ]
    },
    {
      "cell_type": "code",
      "metadata": {
        "id": "SDJoljLaX8y3",
        "colab_type": "code",
        "colab": {
          "base_uri": "https://localhost:8080/",
          "height": 84
        },
        "outputId": "c270451b-9ffa-402c-9d77-62126306b190"
      },
      "source": [
        "# Column wis stacking is the defaut. like a[r, c], b[r, c]\n",
        "np.concatenate((a, b))"
      ],
      "execution_count": 67,
      "outputs": [
        {
          "output_type": "execute_result",
          "data": {
            "text/plain": [
              "array([['India', 'China'],\n",
              "       ['Delhi', 'Beijing'],\n",
              "       ['Britain', 'America'],\n",
              "       ['London', 'Washington']], dtype='<U10')"
            ]
          },
          "metadata": {
            "tags": []
          },
          "execution_count": 67
        }
      ]
    },
    {
      "cell_type": "code",
      "metadata": {
        "id": "ugini6qUUWJ9",
        "colab_type": "code",
        "colab": {
          "base_uri": "https://localhost:8080/",
          "height": 50
        },
        "outputId": "ed9db9fd-43ef-4fb5-8f54-ca711474e5e1"
      },
      "source": [
        "# row wise stacking.\n",
        "np.concatenate((a, b), axis = 1)"
      ],
      "execution_count": 68,
      "outputs": [
        {
          "output_type": "execute_result",
          "data": {
            "text/plain": [
              "array([['India', 'China', 'Britain', 'America'],\n",
              "       ['Delhi', 'Beijing', 'London', 'Washington']], dtype='<U10')"
            ]
          },
          "metadata": {
            "tags": []
          },
          "execution_count": 68
        }
      ]
    },
    {
      "cell_type": "code",
      "metadata": {
        "id": "gVD_4y9KUDj0",
        "colab_type": "code",
        "colab": {
          "base_uri": "https://localhost:8080/",
          "height": 67
        },
        "outputId": "d93b469a-ed44-401b-cc56-30e96315d145"
      },
      "source": [
        "# stack() calls the concatnate function under the hood.\n",
        "name = ['Aseem', 'Savio', 'Antigravity']\n",
        "studentId = [1, 2, 3]\n",
        "score = [90.5, 98.6, 99.1]\n",
        "\n",
        "np.stack((name, studentId, score))"
      ],
      "execution_count": 71,
      "outputs": [
        {
          "output_type": "execute_result",
          "data": {
            "text/plain": [
              "array([['Aseem', 'Savio', 'Antigravity'],\n",
              "       ['1', '2', '3'],\n",
              "       ['90.5', '98.6', '99.1']], dtype='<U32')"
            ]
          },
          "metadata": {
            "tags": []
          },
          "execution_count": 71
        }
      ]
    },
    {
      "cell_type": "code",
      "metadata": {
        "id": "scl3TPLPTjTy",
        "colab_type": "code",
        "colab": {
          "base_uri": "https://localhost:8080/",
          "height": 67
        },
        "outputId": "b7ca49fb-3193-4e8e-d8dc-0e1f6ed5c100"
      },
      "source": [
        "np.stack((name, studentId, score), axis = 1)"
      ],
      "execution_count": 72,
      "outputs": [
        {
          "output_type": "execute_result",
          "data": {
            "text/plain": [
              "array([['Aseem', '1', '90.5'],\n",
              "       ['Savio', '2', '98.6'],\n",
              "       ['Antigravity', '3', '99.1']], dtype='<U32')"
            ]
          },
          "metadata": {
            "tags": []
          },
          "execution_count": 72
        }
      ]
    },
    {
      "cell_type": "code",
      "metadata": {
        "id": "a93X2K6dTYrV",
        "colab_type": "code",
        "colab": {
          "base_uri": "https://localhost:8080/",
          "height": 67
        },
        "outputId": "ac9aeba6-29cd-4af2-b036-97e923639514"
      },
      "source": [
        "np.vstack((name, studentId, score))"
      ],
      "execution_count": 73,
      "outputs": [
        {
          "output_type": "execute_result",
          "data": {
            "text/plain": [
              "array([['Aseem', 'Savio', 'Antigravity'],\n",
              "       ['1', '2', '3'],\n",
              "       ['90.5', '98.6', '99.1']], dtype='<U32')"
            ]
          },
          "metadata": {
            "tags": []
          },
          "execution_count": 73
        }
      ]
    },
    {
      "cell_type": "code",
      "metadata": {
        "id": "5iRE2-NrSqBS",
        "colab_type": "code",
        "colab": {
          "base_uri": "https://localhost:8080/",
          "height": 50
        },
        "outputId": "b9d7b069-4b97-48c1-a053-cc2cf74aff7a"
      },
      "source": [
        "np.hstack((name, studentId, score))"
      ],
      "execution_count": 74,
      "outputs": [
        {
          "output_type": "execute_result",
          "data": {
            "text/plain": [
              "array(['Aseem', 'Savio', 'Antigravity', '1', '2', '3', '90.5', '98.6',\n",
              "       '99.1'], dtype='<U32')"
            ]
          },
          "metadata": {
            "tags": []
          },
          "execution_count": 74
        }
      ]
    },
    {
      "cell_type": "code",
      "metadata": {
        "id": "4JxgRn1BSn_5",
        "colab_type": "code",
        "colab": {
          "base_uri": "https://localhost:8080/",
          "height": 34
        },
        "outputId": "aa0fac7a-a25b-4e9a-df65-949168bb81c4"
      },
      "source": [
        "import numpy as np\n",
        "import matplotlib.pyplot as plt\n",
        "\n",
        "# bins is what you want to count. Add an extra value to the bins (Here 4).\n",
        "a = np.array([1, 1, 2, 2, 2, 3, 3])\n",
        "np.histogram(a, bins = [1, 2, 3, 4])"
      ],
      "execution_count": 79,
      "outputs": [
        {
          "output_type": "execute_result",
          "data": {
            "text/plain": [
              "(array([2, 3, 2]), array([1, 2, 3, 4]))"
            ]
          },
          "metadata": {
            "tags": []
          },
          "execution_count": 79
        }
      ]
    },
    {
      "cell_type": "markdown",
      "metadata": {
        "id": "xj6GNqdZhO2E",
        "colab_type": "text"
      },
      "source": [
        "# Miscellaneous Functions in NumPy\n"
      ]
    },
    {
      "cell_type": "code",
      "metadata": {
        "id": "S6lDFJsQSWOG",
        "colab_type": "code",
        "colab": {
          "base_uri": "https://localhost:8080/",
          "height": 151
        },
        "outputId": "8d7fa703-0462-4d8d-d854-0a7826463928"
      },
      "source": [
        "data = np.random.randint(low = 0, high = 1000, size = 100)\n",
        "data"
      ],
      "execution_count": 82,
      "outputs": [
        {
          "output_type": "execute_result",
          "data": {
            "text/plain": [
              "array([ 20, 424, 822, 666, 232, 965, 651, 941, 984, 287, 391, 723, 142,\n",
              "       230, 484, 331, 921,   0, 141, 677, 490, 310, 349, 680,  59, 581,\n",
              "       652, 748, 331, 563, 430, 136, 295,  80, 647, 664, 249, 460, 549,\n",
              "       283, 847, 668, 379, 157,  14, 509,  87, 199, 191, 744, 546, 456,\n",
              "       321, 992, 447, 978, 198,  93, 455, 258, 485, 132, 850, 404, 105,\n",
              "       995, 516, 564, 569, 444, 892, 881, 849,  68, 974, 901, 662, 702,\n",
              "       277, 464, 700, 878, 376, 364, 607, 573, 701, 298, 917, 502, 426,\n",
              "       110, 989,  95, 919, 122, 665, 844, 583, 505])"
            ]
          },
          "metadata": {
            "tags": []
          },
          "execution_count": 82
        }
      ]
    },
    {
      "cell_type": "code",
      "metadata": {
        "id": "JLx1ng4CSJKc",
        "colab_type": "code",
        "colab": {
          "base_uri": "https://localhost:8080/",
          "height": 34
        },
        "outputId": "75e3eabf-a417-4382-f652-ad3b62ba2ea7"
      },
      "source": [
        "np.argmax(data)"
      ],
      "execution_count": 83,
      "outputs": [
        {
          "output_type": "execute_result",
          "data": {
            "text/plain": [
              "65"
            ]
          },
          "metadata": {
            "tags": []
          },
          "execution_count": 83
        }
      ]
    },
    {
      "cell_type": "code",
      "metadata": {
        "id": "qlvxpBwPR9rV",
        "colab_type": "code",
        "colab": {
          "base_uri": "https://localhost:8080/",
          "height": 118
        },
        "outputId": "7955153d-68f6-49c2-d144-90d440ce12f5"
      },
      "source": [
        "# sorted indices\n",
        "np.argsort(data)"
      ],
      "execution_count": 84,
      "outputs": [
        {
          "output_type": "execute_result",
          "data": {
            "text/plain": [
              "array([17, 44,  0, 24, 73, 33, 46, 57, 93, 64, 91, 95, 61, 31, 18, 12, 43,\n",
              "       48, 56, 47, 13,  4, 36, 59, 78, 39,  9, 32, 87, 21, 52, 28, 15, 22,\n",
              "       83, 82, 42, 10, 63,  1, 90, 30, 69, 54, 58, 51, 37, 79, 14, 60, 20,\n",
              "       89, 99, 45, 66, 50, 38, 29, 67, 68, 85, 25, 98, 84, 34,  6, 26, 76,\n",
              "       35, 96,  3, 41, 19, 23, 80, 86, 77, 11, 49, 27,  2, 97, 40, 72, 62,\n",
              "       81, 71, 70, 75, 88, 94, 16,  7,  5, 74, 55,  8, 92, 53, 65])"
            ]
          },
          "metadata": {
            "tags": []
          },
          "execution_count": 84
        }
      ]
    },
    {
      "cell_type": "code",
      "metadata": {
        "id": "pG03BEzSR1qH",
        "colab_type": "code",
        "colab": {
          "base_uri": "https://localhost:8080/",
          "height": 118
        },
        "outputId": "a811167b-4bd7-4879-a6f5-d428da7efe5e"
      },
      "source": [
        "np.argsort(data, kind = 'mergesort')"
      ],
      "execution_count": 85,
      "outputs": [
        {
          "output_type": "execute_result",
          "data": {
            "text/plain": [
              "array([17, 44,  0, 24, 73, 33, 46, 57, 93, 64, 91, 95, 61, 31, 18, 12, 43,\n",
              "       48, 56, 47, 13,  4, 36, 59, 78, 39,  9, 32, 87, 21, 52, 15, 28, 22,\n",
              "       83, 82, 42, 10, 63,  1, 90, 30, 69, 54, 58, 51, 37, 79, 14, 60, 20,\n",
              "       89, 99, 45, 66, 50, 38, 29, 67, 68, 85, 25, 98, 84, 34,  6, 26, 76,\n",
              "       35, 96,  3, 41, 19, 23, 80, 86, 77, 11, 49, 27,  2, 97, 40, 72, 62,\n",
              "       81, 71, 70, 75, 88, 94, 16,  7,  5, 74, 55,  8, 92, 53, 65])"
            ]
          },
          "metadata": {
            "tags": []
          },
          "execution_count": 85
        }
      ]
    },
    {
      "cell_type": "code",
      "metadata": {
        "id": "O_b6SHmMQ7V_",
        "colab_type": "code",
        "colab": {
          "base_uri": "https://localhost:8080/",
          "height": 118
        },
        "outputId": "e35d16d6-b831-4d2e-f73e-abb5ad5046e7"
      },
      "source": [
        "# returns indices of elements that are greater than 50\n",
        "\n",
        "greaterThan50 = np.where(data > 50)\n",
        "greaterThan50"
      ],
      "execution_count": 87,
      "outputs": [
        {
          "output_type": "execute_result",
          "data": {
            "text/plain": [
              "(array([ 1,  2,  3,  4,  5,  6,  7,  8,  9, 10, 11, 12, 13, 14, 15, 16, 18,\n",
              "        19, 20, 21, 22, 23, 24, 25, 26, 27, 28, 29, 30, 31, 32, 33, 34, 35,\n",
              "        36, 37, 38, 39, 40, 41, 42, 43, 45, 46, 47, 48, 49, 50, 51, 52, 53,\n",
              "        54, 55, 56, 57, 58, 59, 60, 61, 62, 63, 64, 65, 66, 67, 68, 69, 70,\n",
              "        71, 72, 73, 74, 75, 76, 77, 78, 79, 80, 81, 82, 83, 84, 85, 86, 87,\n",
              "        88, 89, 90, 91, 92, 93, 94, 95, 96, 97, 98, 99]),)"
            ]
          },
          "metadata": {
            "tags": []
          },
          "execution_count": 87
        }
      ]
    },
    {
      "cell_type": "code",
      "metadata": {
        "id": "h-6-90oYQ4p-",
        "colab_type": "code",
        "colab": {
          "base_uri": "https://localhost:8080/",
          "height": 84
        },
        "outputId": "1076e8e4-9afe-4497-db4b-63175d00b02e"
      },
      "source": [
        "condition = data > np.mean(data)\n",
        "np.extract(condition, data)"
      ],
      "execution_count": 88,
      "outputs": [
        {
          "output_type": "execute_result",
          "data": {
            "text/plain": [
              "array([822, 666, 965, 651, 941, 984, 723, 921, 677, 680, 581, 652, 748,\n",
              "       563, 647, 664, 549, 847, 668, 509, 744, 546, 992, 978, 850, 995,\n",
              "       516, 564, 569, 892, 881, 849, 974, 901, 662, 702, 700, 878, 607,\n",
              "       573, 701, 917, 502, 989, 919, 665, 844, 583, 505])"
            ]
          },
          "metadata": {
            "tags": []
          },
          "execution_count": 88
        }
      ]
    },
    {
      "cell_type": "markdown",
      "metadata": {
        "id": "IpZLnEMVlEVn",
        "colab_type": "text"
      },
      "source": [
        "# Leveraging Other Python libraries with NumPy\n",
        "\n",
        "Pandas represents all data in tabular form. "
      ]
    },
    {
      "cell_type": "code",
      "metadata": {
        "id": "3YFQOl70QnDo",
        "colab_type": "code",
        "colab": {
          "base_uri": "https://localhost:8080/",
          "height": 195
        },
        "outputId": "e894b418-3e72-469d-e4f4-66e45a038620"
      },
      "source": [
        "import pandas as pd\n",
        "\n",
        "dataFrame = pd.read_csv(\"https://web.stanford.edu/class/archive/cs/cs109/cs109.1166/stuff/titanic.csv\")\n",
        "dataFrame.head()"
      ],
      "execution_count": 91,
      "outputs": [
        {
          "output_type": "execute_result",
          "data": {
            "text/html": [
              "<div>\n",
              "<style scoped>\n",
              "    .dataframe tbody tr th:only-of-type {\n",
              "        vertical-align: middle;\n",
              "    }\n",
              "\n",
              "    .dataframe tbody tr th {\n",
              "        vertical-align: top;\n",
              "    }\n",
              "\n",
              "    .dataframe thead th {\n",
              "        text-align: right;\n",
              "    }\n",
              "</style>\n",
              "<table border=\"1\" class=\"dataframe\">\n",
              "  <thead>\n",
              "    <tr style=\"text-align: right;\">\n",
              "      <th></th>\n",
              "      <th>Survived</th>\n",
              "      <th>Pclass</th>\n",
              "      <th>Name</th>\n",
              "      <th>Sex</th>\n",
              "      <th>Age</th>\n",
              "      <th>Siblings/Spouses Aboard</th>\n",
              "      <th>Parents/Children Aboard</th>\n",
              "      <th>Fare</th>\n",
              "    </tr>\n",
              "  </thead>\n",
              "  <tbody>\n",
              "    <tr>\n",
              "      <th>0</th>\n",
              "      <td>0</td>\n",
              "      <td>3</td>\n",
              "      <td>Mr. Owen Harris Braund</td>\n",
              "      <td>male</td>\n",
              "      <td>22.0</td>\n",
              "      <td>1</td>\n",
              "      <td>0</td>\n",
              "      <td>7.2500</td>\n",
              "    </tr>\n",
              "    <tr>\n",
              "      <th>1</th>\n",
              "      <td>1</td>\n",
              "      <td>1</td>\n",
              "      <td>Mrs. John Bradley (Florence Briggs Thayer) Cum...</td>\n",
              "      <td>female</td>\n",
              "      <td>38.0</td>\n",
              "      <td>1</td>\n",
              "      <td>0</td>\n",
              "      <td>71.2833</td>\n",
              "    </tr>\n",
              "    <tr>\n",
              "      <th>2</th>\n",
              "      <td>1</td>\n",
              "      <td>3</td>\n",
              "      <td>Miss. Laina Heikkinen</td>\n",
              "      <td>female</td>\n",
              "      <td>26.0</td>\n",
              "      <td>0</td>\n",
              "      <td>0</td>\n",
              "      <td>7.9250</td>\n",
              "    </tr>\n",
              "    <tr>\n",
              "      <th>3</th>\n",
              "      <td>1</td>\n",
              "      <td>1</td>\n",
              "      <td>Mrs. Jacques Heath (Lily May Peel) Futrelle</td>\n",
              "      <td>female</td>\n",
              "      <td>35.0</td>\n",
              "      <td>1</td>\n",
              "      <td>0</td>\n",
              "      <td>53.1000</td>\n",
              "    </tr>\n",
              "    <tr>\n",
              "      <th>4</th>\n",
              "      <td>0</td>\n",
              "      <td>3</td>\n",
              "      <td>Mr. William Henry Allen</td>\n",
              "      <td>male</td>\n",
              "      <td>35.0</td>\n",
              "      <td>0</td>\n",
              "      <td>0</td>\n",
              "      <td>8.0500</td>\n",
              "    </tr>\n",
              "  </tbody>\n",
              "</table>\n",
              "</div>"
            ],
            "text/plain": [
              "   Survived  Pclass  ... Parents/Children Aboard     Fare\n",
              "0         0       3  ...                       0   7.2500\n",
              "1         1       1  ...                       0  71.2833\n",
              "2         1       3  ...                       0   7.9250\n",
              "3         1       1  ...                       0  53.1000\n",
              "4         0       3  ...                       0   8.0500\n",
              "\n",
              "[5 rows x 8 columns]"
            ]
          },
          "metadata": {
            "tags": []
          },
          "execution_count": 91
        }
      ]
    },
    {
      "cell_type": "code",
      "metadata": {
        "id": "sNgrNiDspBJ6",
        "colab_type": "code",
        "colab": {
          "base_uri": "https://localhost:8080/",
          "height": 195
        },
        "outputId": "ddb454c5-851c-41c4-c092-a89ed5fb0b2f"
      },
      "source": [
        "dataFrame = dataFrame.drop(columns = ['Name'])\n",
        "dataFrame.head()"
      ],
      "execution_count": 93,
      "outputs": [
        {
          "output_type": "execute_result",
          "data": {
            "text/html": [
              "<div>\n",
              "<style scoped>\n",
              "    .dataframe tbody tr th:only-of-type {\n",
              "        vertical-align: middle;\n",
              "    }\n",
              "\n",
              "    .dataframe tbody tr th {\n",
              "        vertical-align: top;\n",
              "    }\n",
              "\n",
              "    .dataframe thead th {\n",
              "        text-align: right;\n",
              "    }\n",
              "</style>\n",
              "<table border=\"1\" class=\"dataframe\">\n",
              "  <thead>\n",
              "    <tr style=\"text-align: right;\">\n",
              "      <th></th>\n",
              "      <th>Survived</th>\n",
              "      <th>Pclass</th>\n",
              "      <th>Sex</th>\n",
              "      <th>Age</th>\n",
              "      <th>Siblings/Spouses Aboard</th>\n",
              "      <th>Parents/Children Aboard</th>\n",
              "      <th>Fare</th>\n",
              "    </tr>\n",
              "  </thead>\n",
              "  <tbody>\n",
              "    <tr>\n",
              "      <th>0</th>\n",
              "      <td>0</td>\n",
              "      <td>3</td>\n",
              "      <td>male</td>\n",
              "      <td>22.0</td>\n",
              "      <td>1</td>\n",
              "      <td>0</td>\n",
              "      <td>7.2500</td>\n",
              "    </tr>\n",
              "    <tr>\n",
              "      <th>1</th>\n",
              "      <td>1</td>\n",
              "      <td>1</td>\n",
              "      <td>female</td>\n",
              "      <td>38.0</td>\n",
              "      <td>1</td>\n",
              "      <td>0</td>\n",
              "      <td>71.2833</td>\n",
              "    </tr>\n",
              "    <tr>\n",
              "      <th>2</th>\n",
              "      <td>1</td>\n",
              "      <td>3</td>\n",
              "      <td>female</td>\n",
              "      <td>26.0</td>\n",
              "      <td>0</td>\n",
              "      <td>0</td>\n",
              "      <td>7.9250</td>\n",
              "    </tr>\n",
              "    <tr>\n",
              "      <th>3</th>\n",
              "      <td>1</td>\n",
              "      <td>1</td>\n",
              "      <td>female</td>\n",
              "      <td>35.0</td>\n",
              "      <td>1</td>\n",
              "      <td>0</td>\n",
              "      <td>53.1000</td>\n",
              "    </tr>\n",
              "    <tr>\n",
              "      <th>4</th>\n",
              "      <td>0</td>\n",
              "      <td>3</td>\n",
              "      <td>male</td>\n",
              "      <td>35.0</td>\n",
              "      <td>0</td>\n",
              "      <td>0</td>\n",
              "      <td>8.0500</td>\n",
              "    </tr>\n",
              "  </tbody>\n",
              "</table>\n",
              "</div>"
            ],
            "text/plain": [
              "   Survived  Pclass  ... Parents/Children Aboard     Fare\n",
              "0         0       3  ...                       0   7.2500\n",
              "1         1       1  ...                       0  71.2833\n",
              "2         1       3  ...                       0   7.9250\n",
              "3         1       1  ...                       0  53.1000\n",
              "4         0       3  ...                       0   8.0500\n",
              "\n",
              "[5 rows x 7 columns]"
            ]
          },
          "metadata": {
            "tags": []
          },
          "execution_count": 93
        }
      ]
    },
    {
      "cell_type": "code",
      "metadata": {
        "id": "A1tfQLpNMbeR",
        "colab_type": "code",
        "colab": {
          "base_uri": "https://localhost:8080/",
          "height": 34
        },
        "outputId": "4d7d8961-a77e-4ce2-bcbb-488d9dfbe1d5"
      },
      "source": [
        "np.sum(dataFrame['Age'].isna())"
      ],
      "execution_count": 94,
      "outputs": [
        {
          "output_type": "execute_result",
          "data": {
            "text/plain": [
              "0"
            ]
          },
          "metadata": {
            "tags": []
          },
          "execution_count": 94
        }
      ]
    },
    {
      "cell_type": "code",
      "metadata": {
        "id": "61zRyroXLq5A",
        "colab_type": "code",
        "colab": {}
      },
      "source": [
        ""
      ],
      "execution_count": 0,
      "outputs": []
    },
    {
      "cell_type": "code",
      "metadata": {
        "id": "u90BruAxLhEf",
        "colab_type": "code",
        "colab": {}
      },
      "source": [
        ""
      ],
      "execution_count": 0,
      "outputs": []
    },
    {
      "cell_type": "code",
      "metadata": {
        "id": "nDD6Dl64Kzmj",
        "colab_type": "code",
        "colab": {}
      },
      "source": [
        ""
      ],
      "execution_count": 0,
      "outputs": []
    },
    {
      "cell_type": "code",
      "metadata": {
        "id": "qK-feCOg2_U8",
        "colab_type": "code",
        "colab": {}
      },
      "source": [
        ""
      ],
      "execution_count": 0,
      "outputs": []
    },
    {
      "cell_type": "code",
      "metadata": {
        "id": "0nE-Jp-X25EL",
        "colab_type": "code",
        "colab": {}
      },
      "source": [
        ""
      ],
      "execution_count": 0,
      "outputs": []
    },
    {
      "cell_type": "code",
      "metadata": {
        "id": "SE4oqjeY220N",
        "colab_type": "code",
        "colab": {}
      },
      "source": [
        ""
      ],
      "execution_count": 0,
      "outputs": []
    },
    {
      "cell_type": "code",
      "metadata": {
        "id": "tBgWA7jh2xIv",
        "colab_type": "code",
        "colab": {}
      },
      "source": [
        ""
      ],
      "execution_count": 0,
      "outputs": []
    },
    {
      "cell_type": "code",
      "metadata": {
        "id": "eqf1sxrR1H4y",
        "colab_type": "code",
        "colab": {}
      },
      "source": [
        ""
      ],
      "execution_count": 0,
      "outputs": []
    },
    {
      "cell_type": "code",
      "metadata": {
        "id": "Is5gcrJP01kQ",
        "colab_type": "code",
        "colab": {}
      },
      "source": [
        ""
      ],
      "execution_count": 0,
      "outputs": []
    },
    {
      "cell_type": "code",
      "metadata": {
        "id": "5eRYKDeE0t3t",
        "colab_type": "code",
        "colab": {}
      },
      "source": [
        ""
      ],
      "execution_count": 0,
      "outputs": []
    },
    {
      "cell_type": "code",
      "metadata": {
        "id": "q_uy3caf0pyH",
        "colab_type": "code",
        "colab": {}
      },
      "source": [
        ""
      ],
      "execution_count": 0,
      "outputs": []
    },
    {
      "cell_type": "code",
      "metadata": {
        "id": "XDACp0eB0iwM",
        "colab_type": "code",
        "colab": {}
      },
      "source": [
        ""
      ],
      "execution_count": 0,
      "outputs": []
    },
    {
      "cell_type": "code",
      "metadata": {
        "id": "ATfWFzvRzOjX",
        "colab_type": "code",
        "colab": {}
      },
      "source": [
        ""
      ],
      "execution_count": 0,
      "outputs": []
    },
    {
      "cell_type": "code",
      "metadata": {
        "id": "PinYHNzvTUn8",
        "colab_type": "code",
        "colab": {}
      },
      "source": [
        ""
      ],
      "execution_count": 0,
      "outputs": []
    },
    {
      "cell_type": "code",
      "metadata": {
        "id": "GIdYCOMWTG8Z",
        "colab_type": "code",
        "colab": {}
      },
      "source": [
        ""
      ],
      "execution_count": 0,
      "outputs": []
    },
    {
      "cell_type": "code",
      "metadata": {
        "id": "Cz8HysMuSraT",
        "colab_type": "code",
        "colab": {}
      },
      "source": [
        ""
      ],
      "execution_count": 0,
      "outputs": []
    },
    {
      "cell_type": "code",
      "metadata": {
        "id": "xpnsjdmeSLL4",
        "colab_type": "code",
        "colab": {}
      },
      "source": [
        ""
      ],
      "execution_count": 0,
      "outputs": []
    },
    {
      "cell_type": "code",
      "metadata": {
        "id": "ecpIenCpSQQq",
        "colab_type": "code",
        "colab": {}
      },
      "source": [
        ""
      ],
      "execution_count": 0,
      "outputs": []
    },
    {
      "cell_type": "code",
      "metadata": {
        "id": "9JBtswwtSOQ9",
        "colab_type": "code",
        "colab": {}
      },
      "source": [
        ""
      ],
      "execution_count": 0,
      "outputs": []
    },
    {
      "cell_type": "code",
      "metadata": {
        "id": "s_9PokduRx2B",
        "colab_type": "code",
        "colab": {}
      },
      "source": [
        ""
      ],
      "execution_count": 0,
      "outputs": []
    },
    {
      "cell_type": "code",
      "metadata": {
        "id": "mlIZeRBUP3vO",
        "colab_type": "code",
        "colab": {}
      },
      "source": [
        ""
      ],
      "execution_count": 0,
      "outputs": []
    },
    {
      "cell_type": "code",
      "metadata": {
        "id": "cO3R3NFcO0jv",
        "colab_type": "code",
        "colab": {}
      },
      "source": [
        ""
      ],
      "execution_count": 0,
      "outputs": []
    },
    {
      "cell_type": "code",
      "metadata": {
        "id": "qLbM4YwuOsh7",
        "colab_type": "code",
        "colab": {}
      },
      "source": [
        ""
      ],
      "execution_count": 0,
      "outputs": []
    },
    {
      "cell_type": "code",
      "metadata": {
        "id": "LetwCxLwObbB",
        "colab_type": "code",
        "colab": {}
      },
      "source": [
        ""
      ],
      "execution_count": 0,
      "outputs": []
    },
    {
      "cell_type": "code",
      "metadata": {
        "id": "_n2zuic8OUVG",
        "colab_type": "code",
        "colab": {}
      },
      "source": [
        ""
      ],
      "execution_count": 0,
      "outputs": []
    },
    {
      "cell_type": "code",
      "metadata": {
        "id": "hBWZe-q_ORW2",
        "colab_type": "code",
        "colab": {}
      },
      "source": [
        ""
      ],
      "execution_count": 0,
      "outputs": []
    },
    {
      "cell_type": "code",
      "metadata": {
        "id": "8NAcsxIONZow",
        "colab_type": "code",
        "colab": {}
      },
      "source": [
        ""
      ],
      "execution_count": 0,
      "outputs": []
    },
    {
      "cell_type": "code",
      "metadata": {
        "id": "YrItlOX_NHzS",
        "colab_type": "code",
        "colab": {}
      },
      "source": [
        ""
      ],
      "execution_count": 0,
      "outputs": []
    },
    {
      "cell_type": "code",
      "metadata": {
        "id": "ASP9muOCM8DH",
        "colab_type": "code",
        "colab": {}
      },
      "source": [
        ""
      ],
      "execution_count": 0,
      "outputs": []
    },
    {
      "cell_type": "code",
      "metadata": {
        "id": "L2sm2KtuMw_S",
        "colab_type": "code",
        "colab": {}
      },
      "source": [
        ""
      ],
      "execution_count": 0,
      "outputs": []
    },
    {
      "cell_type": "code",
      "metadata": {
        "id": "3SuwWlPMMm9V",
        "colab_type": "code",
        "colab": {}
      },
      "source": [
        ""
      ],
      "execution_count": 0,
      "outputs": []
    },
    {
      "cell_type": "code",
      "metadata": {
        "id": "zy52DbpcL6RG",
        "colab_type": "code",
        "colab": {}
      },
      "source": [
        ""
      ],
      "execution_count": 0,
      "outputs": []
    },
    {
      "cell_type": "code",
      "metadata": {
        "id": "iz2nEZZXLLSV",
        "colab_type": "code",
        "colab": {}
      },
      "source": [
        ""
      ],
      "execution_count": 0,
      "outputs": []
    },
    {
      "cell_type": "code",
      "metadata": {
        "id": "b4PYHPMcK4lh",
        "colab_type": "code",
        "colab": {}
      },
      "source": [
        ""
      ],
      "execution_count": 0,
      "outputs": []
    },
    {
      "cell_type": "code",
      "metadata": {
        "id": "uHpmLwuuK1nk",
        "colab_type": "code",
        "colab": {}
      },
      "source": [
        ""
      ],
      "execution_count": 0,
      "outputs": []
    },
    {
      "cell_type": "code",
      "metadata": {
        "id": "QA2NbeltKxM9",
        "colab_type": "code",
        "colab": {}
      },
      "source": [
        ""
      ],
      "execution_count": 0,
      "outputs": []
    }
  ]
}